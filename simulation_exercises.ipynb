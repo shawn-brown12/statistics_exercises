{
 "cells": [
  {
   "cell_type": "markdown",
   "id": "4802dded",
   "metadata": {},
   "source": [
    "## Simulation Exercises"
   ]
  },
  {
   "cell_type": "code",
   "execution_count": 441,
   "id": "6c9f0f24",
   "metadata": {},
   "outputs": [],
   "source": [
    "%matplotlib inline\n",
    "import numpy as np\n",
    "import pandas as pd\n",
    "import matplotlib.pyplot as plt"
   ]
  },
  {
   "cell_type": "markdown",
   "id": "0ab4f358",
   "metadata": {},
   "source": [
    "How likely is it that you roll doubles when rolling two dice?\n",
    "\n"
   ]
  },
  {
   "cell_type": "code",
   "execution_count": 6,
   "id": "326a9ffa",
   "metadata": {},
   "outputs": [
    {
     "data": {
      "text/plain": [
       "array([[4, 6],\n",
       "       [3, 4],\n",
       "       [1, 2],\n",
       "       ...,\n",
       "       [4, 3],\n",
       "       [1, 4],\n",
       "       [6, 1]])"
      ]
     },
     "execution_count": 6,
     "metadata": {},
     "output_type": "execute_result"
    }
   ],
   "source": [
    "n_trials = nrows = 10_000\n",
    "n_dice = ncols = 2\n",
    "\n",
    "#using random choice\n",
    "#selects from the provided list - [1, 2, 3, 4, 5, 6]\n",
    "\n",
    "#rolls represents the events\n",
    "# we will need number_trials * number_of_dice\n",
    "rolls = np.random.choice([1, 2, 3, 4, 5, 6], n_trials * n_dice).reshape(nrows, ncols)\n",
    "rolls"
   ]
  },
  {
   "cell_type": "code",
   "execution_count": 15,
   "id": "796c03ef",
   "metadata": {},
   "outputs": [],
   "source": [
    "rolls = pd.DataFrame(rolls)"
   ]
  },
  {
   "cell_type": "code",
   "execution_count": 425,
   "id": "c38b78a2",
   "metadata": {},
   "outputs": [
    {
     "data": {
      "text/plain": [
       "0.1706"
      ]
     },
     "execution_count": 425,
     "metadata": {},
     "output_type": "execute_result"
    }
   ],
   "source": [
    "(rolls[0] == rolls[1]).mean()"
   ]
  },
  {
   "cell_type": "code",
   "execution_count": 22,
   "id": "f934a909",
   "metadata": {},
   "outputs": [
    {
     "data": {
      "text/plain": [
       "0.1706"
      ]
     },
     "execution_count": 22,
     "metadata": {},
     "output_type": "execute_result"
    }
   ],
   "source": [
    "doubles = rolls[0] == rolls[1]\n",
    "sum(doubles) / 10_000"
   ]
  },
  {
   "cell_type": "markdown",
   "id": "b86e4a58",
   "metadata": {},
   "source": [
    "If you flip 8 coins, what is the probability of getting exactly 3 heads? What is the probability of getting more than 3 heads?\n",
    "\n"
   ]
  },
  {
   "cell_type": "code",
   "execution_count": 30,
   "id": "15ad7243",
   "metadata": {},
   "outputs": [
    {
     "data": {
      "text/plain": [
       "array([[0, 1, 1, ..., 1, 1, 0],\n",
       "       [1, 0, 1, ..., 0, 1, 1],\n",
       "       [1, 0, 0, ..., 0, 1, 1],\n",
       "       ...,\n",
       "       [1, 0, 0, ..., 0, 0, 1],\n",
       "       [1, 1, 0, ..., 1, 0, 0],\n",
       "       [0, 1, 0, ..., 0, 1, 0]])"
      ]
     },
     "execution_count": 30,
     "metadata": {},
     "output_type": "execute_result"
    }
   ],
   "source": [
    "n_flips = nrows = 10_000\n",
    "n_result = ncols = 8\n",
    "\n",
    "flips = np.random.choice([0,1], n_flips * n_result).reshape(nrows, ncols)\n",
    "\n",
    "flips"
   ]
  },
  {
   "cell_type": "code",
   "execution_count": 427,
   "id": "df74e209",
   "metadata": {},
   "outputs": [
    {
     "data": {
      "text/html": [
       "<div>\n",
       "<style scoped>\n",
       "    .dataframe tbody tr th:only-of-type {\n",
       "        vertical-align: middle;\n",
       "    }\n",
       "\n",
       "    .dataframe tbody tr th {\n",
       "        vertical-align: top;\n",
       "    }\n",
       "\n",
       "    .dataframe thead th {\n",
       "        text-align: right;\n",
       "    }\n",
       "</style>\n",
       "<table border=\"1\" class=\"dataframe\">\n",
       "  <thead>\n",
       "    <tr style=\"text-align: right;\">\n",
       "      <th></th>\n",
       "      <th>0</th>\n",
       "      <th>1</th>\n",
       "      <th>2</th>\n",
       "      <th>3</th>\n",
       "      <th>4</th>\n",
       "      <th>5</th>\n",
       "      <th>6</th>\n",
       "      <th>7</th>\n",
       "    </tr>\n",
       "  </thead>\n",
       "  <tbody>\n",
       "    <tr>\n",
       "      <th>0</th>\n",
       "      <td>0</td>\n",
       "      <td>1</td>\n",
       "      <td>1</td>\n",
       "      <td>1</td>\n",
       "      <td>0</td>\n",
       "      <td>1</td>\n",
       "      <td>1</td>\n",
       "      <td>0</td>\n",
       "    </tr>\n",
       "    <tr>\n",
       "      <th>1</th>\n",
       "      <td>1</td>\n",
       "      <td>0</td>\n",
       "      <td>1</td>\n",
       "      <td>0</td>\n",
       "      <td>0</td>\n",
       "      <td>0</td>\n",
       "      <td>1</td>\n",
       "      <td>1</td>\n",
       "    </tr>\n",
       "    <tr>\n",
       "      <th>2</th>\n",
       "      <td>1</td>\n",
       "      <td>0</td>\n",
       "      <td>0</td>\n",
       "      <td>1</td>\n",
       "      <td>1</td>\n",
       "      <td>0</td>\n",
       "      <td>1</td>\n",
       "      <td>1</td>\n",
       "    </tr>\n",
       "    <tr>\n",
       "      <th>3</th>\n",
       "      <td>0</td>\n",
       "      <td>1</td>\n",
       "      <td>0</td>\n",
       "      <td>1</td>\n",
       "      <td>1</td>\n",
       "      <td>0</td>\n",
       "      <td>1</td>\n",
       "      <td>1</td>\n",
       "    </tr>\n",
       "    <tr>\n",
       "      <th>4</th>\n",
       "      <td>1</td>\n",
       "      <td>0</td>\n",
       "      <td>0</td>\n",
       "      <td>0</td>\n",
       "      <td>1</td>\n",
       "      <td>1</td>\n",
       "      <td>0</td>\n",
       "      <td>1</td>\n",
       "    </tr>\n",
       "    <tr>\n",
       "      <th>...</th>\n",
       "      <td>...</td>\n",
       "      <td>...</td>\n",
       "      <td>...</td>\n",
       "      <td>...</td>\n",
       "      <td>...</td>\n",
       "      <td>...</td>\n",
       "      <td>...</td>\n",
       "      <td>...</td>\n",
       "    </tr>\n",
       "    <tr>\n",
       "      <th>9995</th>\n",
       "      <td>0</td>\n",
       "      <td>0</td>\n",
       "      <td>0</td>\n",
       "      <td>1</td>\n",
       "      <td>1</td>\n",
       "      <td>1</td>\n",
       "      <td>0</td>\n",
       "      <td>0</td>\n",
       "    </tr>\n",
       "    <tr>\n",
       "      <th>9996</th>\n",
       "      <td>1</td>\n",
       "      <td>0</td>\n",
       "      <td>0</td>\n",
       "      <td>0</td>\n",
       "      <td>0</td>\n",
       "      <td>1</td>\n",
       "      <td>0</td>\n",
       "      <td>0</td>\n",
       "    </tr>\n",
       "    <tr>\n",
       "      <th>9997</th>\n",
       "      <td>1</td>\n",
       "      <td>0</td>\n",
       "      <td>0</td>\n",
       "      <td>0</td>\n",
       "      <td>0</td>\n",
       "      <td>0</td>\n",
       "      <td>0</td>\n",
       "      <td>1</td>\n",
       "    </tr>\n",
       "    <tr>\n",
       "      <th>9998</th>\n",
       "      <td>1</td>\n",
       "      <td>1</td>\n",
       "      <td>0</td>\n",
       "      <td>1</td>\n",
       "      <td>0</td>\n",
       "      <td>1</td>\n",
       "      <td>0</td>\n",
       "      <td>0</td>\n",
       "    </tr>\n",
       "    <tr>\n",
       "      <th>9999</th>\n",
       "      <td>0</td>\n",
       "      <td>1</td>\n",
       "      <td>0</td>\n",
       "      <td>0</td>\n",
       "      <td>1</td>\n",
       "      <td>0</td>\n",
       "      <td>1</td>\n",
       "      <td>0</td>\n",
       "    </tr>\n",
       "  </tbody>\n",
       "</table>\n",
       "<p>10000 rows × 8 columns</p>\n",
       "</div>"
      ],
      "text/plain": [
       "      0  1  2  3  4  5  6  7\n",
       "0     0  1  1  1  0  1  1  0\n",
       "1     1  0  1  0  0  0  1  1\n",
       "2     1  0  0  1  1  0  1  1\n",
       "3     0  1  0  1  1  0  1  1\n",
       "4     1  0  0  0  1  1  0  1\n",
       "...  .. .. .. .. .. .. .. ..\n",
       "9995  0  0  0  1  1  1  0  0\n",
       "9996  1  0  0  0  0  1  0  0\n",
       "9997  1  0  0  0  0  0  0  1\n",
       "9998  1  1  0  1  0  1  0  0\n",
       "9999  0  1  0  0  1  0  1  0\n",
       "\n",
       "[10000 rows x 8 columns]"
      ]
     },
     "execution_count": 427,
     "metadata": {},
     "output_type": "execute_result"
    }
   ],
   "source": [
    "flips = pd.DataFrame(flips)\n",
    "flips"
   ]
  },
  {
   "cell_type": "code",
   "execution_count": 429,
   "id": "99734426",
   "metadata": {},
   "outputs": [
    {
     "data": {
      "text/plain": [
       "0       5\n",
       "1       4\n",
       "2       5\n",
       "3       5\n",
       "4       4\n",
       "       ..\n",
       "9995    3\n",
       "9996    2\n",
       "9997    2\n",
       "9998    4\n",
       "9999    3\n",
       "Length: 10000, dtype: int64"
      ]
     },
     "execution_count": 429,
     "metadata": {},
     "output_type": "execute_result"
    }
   ],
   "source": [
    "num_heads = flips.sum(axis=1)\n",
    "\n",
    "num_heads"
   ]
  },
  {
   "cell_type": "code",
   "execution_count": 46,
   "id": "977cb0aa",
   "metadata": {},
   "outputs": [
    {
     "data": {
      "text/plain": [
       "0.218"
      ]
     },
     "execution_count": 46,
     "metadata": {},
     "output_type": "execute_result"
    }
   ],
   "source": [
    "three_heads = heads == 3\n",
    "\n",
    "sum(three_heads) / 10_000"
   ]
  },
  {
   "cell_type": "code",
   "execution_count": 50,
   "id": "fce6c81d",
   "metadata": {},
   "outputs": [
    {
     "data": {
      "text/plain": [
       "0.6332"
      ]
     },
     "execution_count": 50,
     "metadata": {},
     "output_type": "execute_result"
    }
   ],
   "source": [
    "more_than_three = heads > 3\n",
    "\n",
    "sum(more_than_three) / 10_000"
   ]
  },
  {
   "cell_type": "markdown",
   "id": "5e8696fa",
   "metadata": {},
   "source": [
    "There are approximitely 3 web development cohorts for every 1 data science cohort at Codeup. Assuming that Codeup randomly selects an alumni to put on a billboard, what are the odds that the two billboards I drive past both have data science students on them?\n",
    "\n"
   ]
  },
  {
   "cell_type": "code",
   "execution_count": 56,
   "id": "7fca0af4",
   "metadata": {},
   "outputs": [
    {
     "data": {
      "text/plain": [
       "array([[4, 4],\n",
       "       [3, 2],\n",
       "       [4, 1],\n",
       "       ...,\n",
       "       [4, 3],\n",
       "       [2, 2],\n",
       "       [4, 3]])"
      ]
     },
     "execution_count": 56,
     "metadata": {},
     "output_type": "execute_result"
    }
   ],
   "source": [
    "n_student = nrows = 10_000\n",
    "n_billboard = ncols = 2\n",
    "#4 == data science student\n",
    "cohort = np.random.choice([1, 2, 3, 4], n_student * n_billboard).reshape(nrows, ncols)\n",
    "\n",
    "cohort"
   ]
  },
  {
   "cell_type": "code",
   "execution_count": 57,
   "id": "1256dcf1",
   "metadata": {},
   "outputs": [
    {
     "data": {
      "text/plain": [
       "array([8, 5, 5, ..., 7, 4, 7])"
      ]
     },
     "execution_count": 57,
     "metadata": {},
     "output_type": "execute_result"
    }
   ],
   "source": [
    "students = cohort.sum(axis=1)\n",
    "students"
   ]
  },
  {
   "cell_type": "code",
   "execution_count": 60,
   "id": "7b0406aa",
   "metadata": {},
   "outputs": [
    {
     "data": {
      "text/plain": [
       "605"
      ]
     },
     "execution_count": 60,
     "metadata": {},
     "output_type": "execute_result"
    }
   ],
   "source": [
    "data_sci = students == 8\n",
    "data_sci.sum()"
   ]
  },
  {
   "cell_type": "code",
   "execution_count": 61,
   "id": "7ea52c99",
   "metadata": {},
   "outputs": [
    {
     "data": {
      "text/plain": [
       "0.0605"
      ]
     },
     "execution_count": 61,
     "metadata": {},
     "output_type": "execute_result"
    }
   ],
   "source": [
    "data_sci.sum() / 10_000"
   ]
  },
  {
   "cell_type": "markdown",
   "id": "c6d55bf1",
   "metadata": {},
   "source": [
    "Codeup students buy, on average, 3 poptart packages with a standard deviation of 1.5 a day from the snack vending machine. If on monday the machine is restocked with 17 poptart packages, how likely is it that I will be able to buy some poptarts on Friday afternoon? (Remember, if you have mean and standard deviation, use the np.random.normal) You'll need to make a judgement call on how to handle some of your values\n",
    "\n"
   ]
  },
  {
   "cell_type": "code",
   "execution_count": null,
   "id": "8e0999fc",
   "metadata": {},
   "outputs": [],
   "source": [
    "#mu, sigma = 0, 0.1 # mean and standard deviation\n",
    "#s = np.random.normal(mu, sigma, 1000)"
   ]
  },
  {
   "cell_type": "code",
   "execution_count": 305,
   "id": "b2d14e14",
   "metadata": {},
   "outputs": [
    {
     "data": {
      "text/plain": [
       "array([[3.98846016, 1.74673686, 2.91130458, 4.70647589, 5.05781075],\n",
       "       [3.94138475, 4.15067864, 4.529164  , 4.7035659 , 3.41070406],\n",
       "       [1.31879983, 2.92061197, 4.3758189 , 1.37571357, 0.92569921],\n",
       "       ...,\n",
       "       [2.9670288 , 1.56202523, 3.09031462, 3.47765664, 4.40373348],\n",
       "       [0.46471413, 2.9288907 , 2.20218541, 4.66549562, 5.75549415],\n",
       "       [2.1302958 , 2.1549317 , 3.10194296, 4.36475737, 3.59109623]])"
      ]
     },
     "execution_count": 305,
     "metadata": {},
     "output_type": "execute_result"
    }
   ],
   "source": [
    "n_tarts = nrows = 10_000\n",
    "n_days = ncols = 5\n",
    "\n",
    "average, std = 3, 1.5\n",
    "tarts = np.random.normal(3, 1.5, (n_tarts, n_days))\n",
    "\n",
    "tarts"
   ]
  },
  {
   "cell_type": "code",
   "execution_count": 87,
   "id": "5d8626a7",
   "metadata": {},
   "outputs": [
    {
     "data": {
      "text/plain": [
       "array([-1.58440243, -2.65589145,  2.52087462, ...,  3.62864632,\n",
       "        5.33489488,  0.06635386])"
      ]
     },
     "execution_count": 87,
     "metadata": {},
     "output_type": "execute_result"
    }
   ],
   "source": [
    "avail_tarts = 17 - tarts.sum(axis=1)\n",
    "avail_tarts"
   ]
  },
  {
   "cell_type": "code",
   "execution_count": 88,
   "id": "6265507d",
   "metadata": {},
   "outputs": [
    {
     "data": {
      "text/plain": [
       "6212"
      ]
     },
     "execution_count": 88,
     "metadata": {},
     "output_type": "execute_result"
    }
   ],
   "source": [
    "friday_tarts = avail_tarts >= 1\n",
    "friday_tarts.sum()"
   ]
  },
  {
   "cell_type": "code",
   "execution_count": 89,
   "id": "45a9dde8",
   "metadata": {},
   "outputs": [
    {
     "data": {
      "text/plain": [
       "0.6212"
      ]
     },
     "execution_count": 89,
     "metadata": {},
     "output_type": "execute_result"
    }
   ],
   "source": [
    "friday_tarts.sum() / 10_000"
   ]
  },
  {
   "cell_type": "code",
   "execution_count": 438,
   "id": "ab9dbee3",
   "metadata": {},
   "outputs": [
    {
     "data": {
      "text/plain": [
       "array([[ 4.38032883,  5.4171038 ,  2.53221682,  2.14965897,  2.98190917],\n",
       "       [ 4.46775016,  3.00145111,  2.67031397, -0.06080857,  2.99432393],\n",
       "       [ 4.01830749,  2.49443803,  3.19229594,  2.25309224,  3.94990466],\n",
       "       ...,\n",
       "       [ 5.88788744,  2.6578135 ,  4.68867202,  6.01016673,  2.02683253],\n",
       "       [ 1.70093527,  4.5088907 ,  5.57681427,  2.52792239,  3.35381056],\n",
       "       [ 6.13092267,  4.67740782,  2.65219867,  0.91118014,  4.57386341]])"
      ]
     },
     "execution_count": 438,
     "metadata": {},
     "output_type": "execute_result"
    }
   ],
   "source": [
    "n_simulation = 100_000\n",
    "mean = 3\n",
    "sd = 1.5\n",
    "n_days = 5\n",
    "\n",
    "pop_per_day = np.random.normal(mean, sd, size=(n_simulation, n_days))\n",
    "\n",
    "pop_per_day"
   ]
  },
  {
   "cell_type": "code",
   "execution_count": 440,
   "id": "009a5047",
   "metadata": {},
   "outputs": [
    {
     "data": {
      "text/html": [
       "<div>\n",
       "<style scoped>\n",
       "    .dataframe tbody tr th:only-of-type {\n",
       "        vertical-align: middle;\n",
       "    }\n",
       "\n",
       "    .dataframe tbody tr th {\n",
       "        vertical-align: top;\n",
       "    }\n",
       "\n",
       "    .dataframe thead th {\n",
       "        text-align: right;\n",
       "    }\n",
       "</style>\n",
       "<table border=\"1\" class=\"dataframe\">\n",
       "  <thead>\n",
       "    <tr style=\"text-align: right;\">\n",
       "      <th></th>\n",
       "      <th>0</th>\n",
       "      <th>1</th>\n",
       "      <th>2</th>\n",
       "      <th>3</th>\n",
       "      <th>4</th>\n",
       "    </tr>\n",
       "  </thead>\n",
       "  <tbody>\n",
       "    <tr>\n",
       "      <th>0</th>\n",
       "      <td>4.380329</td>\n",
       "      <td>5.417104</td>\n",
       "      <td>2.532217</td>\n",
       "      <td>2.149659</td>\n",
       "      <td>2.981909</td>\n",
       "    </tr>\n",
       "    <tr>\n",
       "      <th>1</th>\n",
       "      <td>4.467750</td>\n",
       "      <td>3.001451</td>\n",
       "      <td>2.670314</td>\n",
       "      <td>-0.060809</td>\n",
       "      <td>2.994324</td>\n",
       "    </tr>\n",
       "    <tr>\n",
       "      <th>2</th>\n",
       "      <td>4.018307</td>\n",
       "      <td>2.494438</td>\n",
       "      <td>3.192296</td>\n",
       "      <td>2.253092</td>\n",
       "      <td>3.949905</td>\n",
       "    </tr>\n",
       "    <tr>\n",
       "      <th>3</th>\n",
       "      <td>3.061356</td>\n",
       "      <td>1.216265</td>\n",
       "      <td>7.675848</td>\n",
       "      <td>3.788773</td>\n",
       "      <td>2.735205</td>\n",
       "    </tr>\n",
       "    <tr>\n",
       "      <th>4</th>\n",
       "      <td>4.023914</td>\n",
       "      <td>2.089056</td>\n",
       "      <td>5.071422</td>\n",
       "      <td>2.482914</td>\n",
       "      <td>1.719749</td>\n",
       "    </tr>\n",
       "    <tr>\n",
       "      <th>...</th>\n",
       "      <td>...</td>\n",
       "      <td>...</td>\n",
       "      <td>...</td>\n",
       "      <td>...</td>\n",
       "      <td>...</td>\n",
       "    </tr>\n",
       "    <tr>\n",
       "      <th>99995</th>\n",
       "      <td>-0.109010</td>\n",
       "      <td>4.267343</td>\n",
       "      <td>3.870627</td>\n",
       "      <td>4.103494</td>\n",
       "      <td>2.773358</td>\n",
       "    </tr>\n",
       "    <tr>\n",
       "      <th>99996</th>\n",
       "      <td>1.798900</td>\n",
       "      <td>2.344122</td>\n",
       "      <td>0.378622</td>\n",
       "      <td>2.775666</td>\n",
       "      <td>1.732876</td>\n",
       "    </tr>\n",
       "    <tr>\n",
       "      <th>99997</th>\n",
       "      <td>5.887887</td>\n",
       "      <td>2.657814</td>\n",
       "      <td>4.688672</td>\n",
       "      <td>6.010167</td>\n",
       "      <td>2.026833</td>\n",
       "    </tr>\n",
       "    <tr>\n",
       "      <th>99998</th>\n",
       "      <td>1.700935</td>\n",
       "      <td>4.508891</td>\n",
       "      <td>5.576814</td>\n",
       "      <td>2.527922</td>\n",
       "      <td>3.353811</td>\n",
       "    </tr>\n",
       "    <tr>\n",
       "      <th>99999</th>\n",
       "      <td>6.130923</td>\n",
       "      <td>4.677408</td>\n",
       "      <td>2.652199</td>\n",
       "      <td>0.911180</td>\n",
       "      <td>4.573863</td>\n",
       "    </tr>\n",
       "  </tbody>\n",
       "</table>\n",
       "<p>100000 rows × 5 columns</p>\n",
       "</div>"
      ],
      "text/plain": [
       "              0         1         2         3         4\n",
       "0      4.380329  5.417104  2.532217  2.149659  2.981909\n",
       "1      4.467750  3.001451  2.670314 -0.060809  2.994324\n",
       "2      4.018307  2.494438  3.192296  2.253092  3.949905\n",
       "3      3.061356  1.216265  7.675848  3.788773  2.735205\n",
       "4      4.023914  2.089056  5.071422  2.482914  1.719749\n",
       "...         ...       ...       ...       ...       ...\n",
       "99995 -0.109010  4.267343  3.870627  4.103494  2.773358\n",
       "99996  1.798900  2.344122  0.378622  2.775666  1.732876\n",
       "99997  5.887887  2.657814  4.688672  6.010167  2.026833\n",
       "99998  1.700935  4.508891  5.576814  2.527922  3.353811\n",
       "99999  6.130923  4.677408  2.652199  0.911180  4.573863\n",
       "\n",
       "[100000 rows x 5 columns]"
      ]
     },
     "execution_count": 440,
     "metadata": {},
     "output_type": "execute_result"
    }
   ],
   "source": [
    "pop_per_day = pd.DataFrame(pop_per_day)\n",
    "pop_per_day"
   ]
  },
  {
   "cell_type": "code",
   "execution_count": 443,
   "id": "c6d56216",
   "metadata": {},
   "outputs": [
    {
     "data": {
      "text/plain": [
       "(array([  21.,  177.,  768., 2026., 2990., 2477., 1183.,  316.,   37.,\n",
       "           5.]),\n",
       " array([-2.42302547, -1.25999524, -0.096965  ,  1.06606524,  2.22909547,\n",
       "         3.39212571,  4.55515595,  5.71818618,  6.88121642,  8.04424666,\n",
       "         9.20727689]),\n",
       " <BarContainer object of 10 artists>)"
      ]
     },
     "execution_count": 443,
     "metadata": {},
     "output_type": "execute_result"
    },
    {
     "data": {
      "image/png": "[encoded data removed]",
      "text/plain": [
       "<Figure size 640x480 with 1 Axes>"
      ]
     },
     "metadata": {},
     "output_type": "display_data"
    }
   ],
   "source": [
    "plt.hist(np.random.normal(3, 1.5, size=(10_000)))"
   ]
  },
  {
   "cell_type": "code",
   "execution_count": 444,
   "id": "c63bfe13",
   "metadata": {},
   "outputs": [
    {
     "data": {
      "text/plain": [
       "0        17.461218\n",
       "1        13.073031\n",
       "2        15.908038\n",
       "3        18.477447\n",
       "4        15.387056\n",
       "           ...    \n",
       "99995    14.905812\n",
       "99996     9.030186\n",
       "99997    21.271372\n",
       "99998    17.668373\n",
       "99999    18.945573\n",
       "Length: 100000, dtype: float64"
      ]
     },
     "execution_count": 444,
     "metadata": {},
     "output_type": "execute_result"
    }
   ],
   "source": [
    "poptarts_per_week = pop_per_day.sum(axis=1)\n",
    "poptarts_per_week"
   ]
  },
  {
   "cell_type": "code",
   "execution_count": 446,
   "id": "10ab58d0",
   "metadata": {},
   "outputs": [
    {
     "data": {
      "text/plain": [
       "0.72589"
      ]
     },
     "execution_count": 446,
     "metadata": {},
     "output_type": "execute_result"
    }
   ],
   "source": [
    "(poptarts_per_week < 17).mean()"
   ]
  },
  {
   "cell_type": "markdown",
   "id": "3a66c9cd",
   "metadata": {},
   "source": [
    "Men have an average height of 178 cm and standard deviation of 8cm.  \n",
    "Women have a mean of 170, sd = 6cm.  \n",
    "Since you have means and standard deviations, you can use np.random.normal to generate observations.  \n",
    "If a man and woman are chosen at random, what is the likelihood the woman is taller than the man?\n",
    "\n",
    "\n",
    "\n"
   ]
  },
  {
   "cell_type": "code",
   "execution_count": 91,
   "id": "1169b20d",
   "metadata": {},
   "outputs": [
    {
     "data": {
      "text/plain": [
       "array([[178.82615382],\n",
       "       [166.54647555],\n",
       "       [178.89389758],\n",
       "       ...,\n",
       "       [183.30336274],\n",
       "       [190.41336836],\n",
       "       [178.35082368]])"
      ]
     },
     "execution_count": 91,
     "metadata": {},
     "output_type": "execute_result"
    }
   ],
   "source": [
    "m_avg, m_std = 178, 8\n",
    "m_sample = nrows = 10_000\n",
    "m_column = ncols = 1\n",
    "\n",
    "men = np.random.normal(m_avg, m_std, (m_sample, m_column))\n",
    "\n",
    "men"
   ]
  },
  {
   "cell_type": "code",
   "execution_count": 99,
   "id": "07aba386",
   "metadata": {},
   "outputs": [
    {
     "data": {
      "text/plain": [
       "array([[163.61312122],\n",
       "       [177.34821684],\n",
       "       [162.81213194],\n",
       "       ...,\n",
       "       [174.59761321],\n",
       "       [168.23458738],\n",
       "       [167.35797771]])"
      ]
     },
     "execution_count": 99,
     "metadata": {},
     "output_type": "execute_result"
    }
   ],
   "source": [
    "w_avg, w_std = 170, 6\n",
    "w_sample = nrows = 10_000\n",
    "w_column = ncols = 1\n",
    "\n",
    "women = np.random.normal(w_avg, w_std, (w_sample, w_column))\n",
    "\n",
    "women"
   ]
  },
  {
   "cell_type": "code",
   "execution_count": 101,
   "id": "8cbbfd68",
   "metadata": {},
   "outputs": [
    {
     "data": {
      "text/plain": [
       "2120"
      ]
     },
     "execution_count": 101,
     "metadata": {},
     "output_type": "execute_result"
    }
   ],
   "source": [
    "taller_women = women > men\n",
    "\n",
    "taller_women.sum()"
   ]
  },
  {
   "cell_type": "code",
   "execution_count": 103,
   "id": "2c195384",
   "metadata": {},
   "outputs": [
    {
     "data": {
      "text/plain": [
       "0.106"
      ]
     },
     "execution_count": 103,
     "metadata": {},
     "output_type": "execute_result"
    }
   ],
   "source": [
    "taller_women.sum() / (len(men) + len(women))"
   ]
  },
  {
   "cell_type": "code",
   "execution_count": 447,
   "id": "32401349",
   "metadata": {},
   "outputs": [
    {
     "data": {
      "text/plain": [
       "0.212"
      ]
     },
     "execution_count": 447,
     "metadata": {},
     "output_type": "execute_result"
    }
   ],
   "source": [
    "(women > men).mean()"
   ]
  },
  {
   "cell_type": "markdown",
   "id": "263e478f",
   "metadata": {},
   "source": [
    "When installing anaconda on a student's computer, there's a 1 in 250 chance that the download is corrupted and the installation fails. What are the odds that after having 50 students download anaconda, no one has an installation issue? 100 students?\n",
    "\n"
   ]
  },
  {
   "cell_type": "code",
   "execution_count": 364,
   "id": "4f6d68e9",
   "metadata": {},
   "outputs": [
    {
     "data": {
      "text/plain": [
       "array([[0, 0, 0, ..., 0, 0, 0],\n",
       "       [0, 0, 0, ..., 0, 0, 0],\n",
       "       [0, 0, 0, ..., 0, 0, 0],\n",
       "       ...,\n",
       "       [0, 0, 0, ..., 0, 0, 0],\n",
       "       [0, 0, 0, ..., 0, 0, 0],\n",
       "       [0, 0, 0, ..., 0, 0, 0]])"
      ]
     },
     "execution_count": 364,
     "metadata": {},
     "output_type": "execute_result"
    }
   ],
   "source": [
    "students = nrows = 10_000\n",
    "pf = ncols = 450\n",
    "\n",
    "install = np.random.choice([0, 1], students * pf, p = [.996, .004]).reshape(nrows, ncols)\n",
    "install"
   ]
  },
  {
   "cell_type": "code",
   "execution_count": 365,
   "id": "4b792ec7",
   "metadata": {},
   "outputs": [
    {
     "data": {
      "text/plain": [
       "17918"
      ]
     },
     "execution_count": 365,
     "metadata": {},
     "output_type": "execute_result"
    }
   ],
   "source": [
    "fails = (install == 1).sum()\n",
    "fails"
   ]
  },
  {
   "cell_type": "code",
   "execution_count": 370,
   "id": "ac29e222",
   "metadata": {},
   "outputs": [
    {
     "data": {
      "text/plain": [
       "1.7918"
      ]
     },
     "execution_count": 370,
     "metadata": {},
     "output_type": "execute_result"
    }
   ],
   "source": [
    "(fails) / len(install)"
   ]
  },
  {
   "cell_type": "code",
   "execution_count": 360,
   "id": "9dfb483b",
   "metadata": {},
   "outputs": [
    {
     "data": {
      "text/plain": [
       "0.8029999999999999"
      ]
     },
     "execution_count": 360,
     "metadata": {},
     "output_type": "execute_result"
    }
   ],
   "source": [
    "1 - 0.197\n",
    "#roughly .80 or 80%"
   ]
  },
  {
   "cell_type": "code",
   "execution_count": 356,
   "id": "edbce21e",
   "metadata": {},
   "outputs": [
    {
     "data": {
      "text/plain": [
       "0.6113999999999999"
      ]
     },
     "execution_count": 356,
     "metadata": {},
     "output_type": "execute_result"
    }
   ],
   "source": [
    "1 - 0.3886\n",
    "#roughly .60 or 60% "
   ]
  },
  {
   "cell_type": "markdown",
   "id": "8e306491",
   "metadata": {},
   "source": [
    "What is the probability that we observe an installation issue within the first 150 students that download anaconda?\n",
    "\n"
   ]
  },
  {
   "cell_type": "code",
   "execution_count": 293,
   "id": "97aaac30",
   "metadata": {},
   "outputs": [
    {
     "data": {
      "text/plain": [
       "0.608899999999961"
      ]
     },
     "execution_count": 293,
     "metadata": {},
     "output_type": "execute_result"
    }
   ],
   "source": [
    "#roughly .60 or 60%"
   ]
  },
  {
   "cell_type": "markdown",
   "id": "60dfd9fa",
   "metadata": {},
   "source": [
    "How likely is it that 450 students all download anaconda without an issue?\n",
    "\n"
   ]
  },
  {
   "cell_type": "code",
   "execution_count": 297,
   "id": "da82161a",
   "metadata": {},
   "outputs": [
    {
     "data": {
      "text/plain": [
       "1.8"
      ]
     },
     "execution_count": 297,
     "metadata": {},
     "output_type": "execute_result"
    }
   ],
   "source": []
  },
  {
   "cell_type": "markdown",
   "id": "0add781e",
   "metadata": {},
   "source": [
    "### Class Examples"
   ]
  },
  {
   "cell_type": "code",
   "execution_count": 467,
   "id": "3cd69880",
   "metadata": {},
   "outputs": [],
   "source": [
    "outcomes = ['S', 'F']\n",
    "n_students = 50"
   ]
  },
  {
   "cell_type": "code",
   "execution_count": 468,
   "id": "4686b5ee",
   "metadata": {},
   "outputs": [
    {
     "data": {
      "text/plain": [
       "array([['S', 'S', 'S', ..., 'S', 'S', 'S'],\n",
       "       ['S', 'S', 'S', ..., 'S', 'S', 'S'],\n",
       "       ['S', 'S', 'S', ..., 'S', 'S', 'S'],\n",
       "       ...,\n",
       "       ['S', 'S', 'S', ..., 'S', 'S', 'S'],\n",
       "       ['S', 'S', 'S', ..., 'S', 'S', 'S'],\n",
       "       ['S', 'S', 'S', ..., 'S', 'S', 'S']], dtype='<U1')"
      ]
     },
     "execution_count": 468,
     "metadata": {},
     "output_type": "execute_result"
    }
   ],
   "source": [
    "downloads = np.random.choice(outcomes, size=(n_simulations, n_students), p = [249/250, 1/250])\n",
    "downloads"
   ]
  },
  {
   "cell_type": "code",
   "execution_count": 469,
   "id": "d642654f",
   "metadata": {},
   "outputs": [
    {
     "data": {
      "text/plain": [
       "array([49, 50, 50, ..., 50, 49, 49])"
      ]
     },
     "execution_count": 469,
     "metadata": {},
     "output_type": "execute_result"
    }
   ],
   "source": [
    "(downloads == 'S').sum(axis=1)"
   ]
  },
  {
   "cell_type": "code",
   "execution_count": 471,
   "id": "5a50799f",
   "metadata": {},
   "outputs": [
    {
     "data": {
      "text/plain": [
       "0.81777"
      ]
     },
     "execution_count": 471,
     "metadata": {},
     "output_type": "execute_result"
    }
   ],
   "source": [
    "((downloads == 'S').sum(axis=1) == n_students).mean()"
   ]
  },
  {
   "cell_type": "code",
   "execution_count": 466,
   "id": "0d9bb891",
   "metadata": {},
   "outputs": [
    {
     "data": {
      "text/plain": [
       "0.66598"
      ]
     },
     "execution_count": 466,
     "metadata": {},
     "output_type": "execute_result"
    }
   ],
   "source": [
    "((downloads == 'S').sum(axis=1) == n_students).mean()"
   ]
  },
  {
   "cell_type": "code",
   "execution_count": 474,
   "id": "976e796a",
   "metadata": {},
   "outputs": [
    {
     "data": {
      "text/plain": [
       "0.16407"
      ]
     },
     "execution_count": 474,
     "metadata": {},
     "output_type": "execute_result"
    }
   ],
   "source": [
    "outcomes = ['S', 'F']\n",
    "n_students = 450\n",
    "\n",
    "downloads = np.random.choice(outcomes, size=(n_simulations, n_students), p = [249/250, 1/250])\n",
    "\n",
    "((downloads == 'S').sum(axis=1) == n_students).mean()"
   ]
  },
  {
   "cell_type": "markdown",
   "id": "1b4520c0",
   "metadata": {},
   "source": [
    "There's a 70% chance on any given day that there will be at least one food truck at Travis Park. However, you haven't seen a food truck there in 3 days. How unlikely is this?\n",
    "\n"
   ]
  },
  {
   "cell_type": "code",
   "execution_count": 389,
   "id": "330256b3",
   "metadata": {},
   "outputs": [
    {
     "data": {
      "text/plain": [
       "array([[0, 1, 1, ..., 0, 1, 1],\n",
       "       [0, 0, 0, ..., 0, 0, 0],\n",
       "       [0, 1, 0, ..., 1, 0, 0],\n",
       "       ...,\n",
       "       [0, 1, 1, ..., 1, 0, 0],\n",
       "       [0, 1, 0, ..., 1, 0, 1],\n",
       "       [0, 0, 1, ..., 0, 0, 0]])"
      ]
     },
     "execution_count": 389,
     "metadata": {},
     "output_type": "execute_result"
    }
   ],
   "source": [
    "p_show = .7\n",
    "sims = nrows = 10_000\n",
    "show = ncols = 7\n",
    "\n",
    "food = np.random.choice([0, 1], sims * show, p = [.7, .3]).reshape(nrows, ncols)\n",
    "food"
   ]
  },
  {
   "cell_type": "code",
   "execution_count": 384,
   "id": "65f5c098",
   "metadata": {},
   "outputs": [
    {
     "data": {
      "text/plain": [
       "0.9727"
      ]
     },
     "execution_count": 384,
     "metadata": {},
     "output_type": "execute_result"
    }
   ],
   "source": [
    "(pd.DataFrame(food)\n",
    " .apply(lambda row: 0 in row.values, axis=1)\n",
    " .mean())"
   ]
  },
  {
   "cell_type": "code",
   "execution_count": 391,
   "id": "0ee27b6b",
   "metadata": {},
   "outputs": [
    {
     "data": {
      "text/plain": [
       "0.02729999999999999"
      ]
     },
     "execution_count": 391,
     "metadata": {},
     "output_type": "execute_result"
    }
   ],
   "source": [
    "1 - .9727"
   ]
  },
  {
   "cell_type": "markdown",
   "id": "927da180",
   "metadata": {},
   "source": [
    "How likely is it that a food truck will show up sometime this week?\n",
    "\n"
   ]
  },
  {
   "cell_type": "code",
   "execution_count": 390,
   "id": "8aacd3c5",
   "metadata": {},
   "outputs": [
    {
     "data": {
      "text/plain": [
       "0.9998"
      ]
     },
     "execution_count": 390,
     "metadata": {},
     "output_type": "execute_result"
    }
   ],
   "source": [
    "(pd.DataFrame(food)\n",
    " .apply(lambda row: 0 in row.values, axis=1)\n",
    " .mean())"
   ]
  },
  {
   "cell_type": "markdown",
   "id": "8242142f",
   "metadata": {},
   "source": [
    "### Class example"
   ]
  },
  {
   "cell_type": "code",
   "execution_count": 485,
   "id": "41d41f64",
   "metadata": {},
   "outputs": [
    {
     "data": {
      "text/plain": [
       "array([[1, 0, 0, 1, 1],\n",
       "       [0, 0, 1, 1, 0],\n",
       "       [1, 1, 0, 1, 1],\n",
       "       ...,\n",
       "       [1, 1, 0, 1, 0],\n",
       "       [1, 0, 0, 1, 1],\n",
       "       [1, 0, 1, 0, 1]])"
      ]
     },
     "execution_count": 485,
     "metadata": {},
     "output_type": "execute_result"
    }
   ],
   "source": [
    "n_days = 5\n",
    "#0 = no trucks, 1 = trucks\n",
    "trucks = np.random.choice([0, 1], size=(n_simulations, n_days), p=[.3, .7])\n",
    "trucks"
   ]
  },
  {
   "cell_type": "code",
   "execution_count": 481,
   "id": "a87b5de7",
   "metadata": {},
   "outputs": [
    {
     "data": {
      "text/plain": [
       "0.02813"
      ]
     },
     "execution_count": 481,
     "metadata": {},
     "output_type": "execute_result"
    }
   ],
   "source": [
    "(trucks.sum(axis=1) == 0).mean()"
   ]
  },
  {
   "cell_type": "code",
   "execution_count": 486,
   "id": "189bd2cb",
   "metadata": {},
   "outputs": [
    {
     "data": {
      "text/plain": [
       "0.99742"
      ]
     },
     "execution_count": 486,
     "metadata": {},
     "output_type": "execute_result"
    }
   ],
   "source": [
    "(trucks.sum(axis=1) >= 1).mean()"
   ]
  },
  {
   "cell_type": "markdown",
   "id": "6df6e14c",
   "metadata": {},
   "source": [
    "If 23 people are in the same room, what are the odds that two of them share a birthday? What if it's 20 people? 40?\n",
    "\n"
   ]
  },
  {
   "cell_type": "code",
   "execution_count": 420,
   "id": "7d88390f",
   "metadata": {},
   "outputs": [
    {
     "data": {
      "text/html": [
       "<div>\n",
       "<style scoped>\n",
       "    .dataframe tbody tr th:only-of-type {\n",
       "        vertical-align: middle;\n",
       "    }\n",
       "\n",
       "    .dataframe tbody tr th {\n",
       "        vertical-align: top;\n",
       "    }\n",
       "\n",
       "    .dataframe thead th {\n",
       "        text-align: right;\n",
       "    }\n",
       "</style>\n",
       "<table border=\"1\" class=\"dataframe\">\n",
       "  <thead>\n",
       "    <tr style=\"text-align: right;\">\n",
       "      <th></th>\n",
       "      <th>0</th>\n",
       "      <th>1</th>\n",
       "      <th>2</th>\n",
       "      <th>3</th>\n",
       "      <th>4</th>\n",
       "      <th>5</th>\n",
       "      <th>6</th>\n",
       "      <th>7</th>\n",
       "      <th>8</th>\n",
       "      <th>9</th>\n",
       "      <th>...</th>\n",
       "      <th>13</th>\n",
       "      <th>14</th>\n",
       "      <th>15</th>\n",
       "      <th>16</th>\n",
       "      <th>17</th>\n",
       "      <th>18</th>\n",
       "      <th>19</th>\n",
       "      <th>20</th>\n",
       "      <th>21</th>\n",
       "      <th>22</th>\n",
       "    </tr>\n",
       "  </thead>\n",
       "  <tbody>\n",
       "    <tr>\n",
       "      <th>0</th>\n",
       "      <td>61</td>\n",
       "      <td>172</td>\n",
       "      <td>198</td>\n",
       "      <td>119</td>\n",
       "      <td>117</td>\n",
       "      <td>179</td>\n",
       "      <td>228</td>\n",
       "      <td>334</td>\n",
       "      <td>125</td>\n",
       "      <td>45</td>\n",
       "      <td>...</td>\n",
       "      <td>255</td>\n",
       "      <td>224</td>\n",
       "      <td>282</td>\n",
       "      <td>162</td>\n",
       "      <td>164</td>\n",
       "      <td>25</td>\n",
       "      <td>114</td>\n",
       "      <td>254</td>\n",
       "      <td>23</td>\n",
       "      <td>28</td>\n",
       "    </tr>\n",
       "    <tr>\n",
       "      <th>1</th>\n",
       "      <td>172</td>\n",
       "      <td>203</td>\n",
       "      <td>307</td>\n",
       "      <td>265</td>\n",
       "      <td>38</td>\n",
       "      <td>201</td>\n",
       "      <td>318</td>\n",
       "      <td>285</td>\n",
       "      <td>115</td>\n",
       "      <td>125</td>\n",
       "      <td>...</td>\n",
       "      <td>358</td>\n",
       "      <td>90</td>\n",
       "      <td>355</td>\n",
       "      <td>38</td>\n",
       "      <td>80</td>\n",
       "      <td>324</td>\n",
       "      <td>201</td>\n",
       "      <td>348</td>\n",
       "      <td>27</td>\n",
       "      <td>237</td>\n",
       "    </tr>\n",
       "    <tr>\n",
       "      <th>2</th>\n",
       "      <td>266</td>\n",
       "      <td>114</td>\n",
       "      <td>228</td>\n",
       "      <td>2</td>\n",
       "      <td>308</td>\n",
       "      <td>305</td>\n",
       "      <td>182</td>\n",
       "      <td>231</td>\n",
       "      <td>203</td>\n",
       "      <td>18</td>\n",
       "      <td>...</td>\n",
       "      <td>236</td>\n",
       "      <td>257</td>\n",
       "      <td>201</td>\n",
       "      <td>296</td>\n",
       "      <td>230</td>\n",
       "      <td>297</td>\n",
       "      <td>122</td>\n",
       "      <td>359</td>\n",
       "      <td>188</td>\n",
       "      <td>115</td>\n",
       "    </tr>\n",
       "    <tr>\n",
       "      <th>3</th>\n",
       "      <td>320</td>\n",
       "      <td>263</td>\n",
       "      <td>345</td>\n",
       "      <td>90</td>\n",
       "      <td>37</td>\n",
       "      <td>9</td>\n",
       "      <td>281</td>\n",
       "      <td>27</td>\n",
       "      <td>120</td>\n",
       "      <td>214</td>\n",
       "      <td>...</td>\n",
       "      <td>257</td>\n",
       "      <td>57</td>\n",
       "      <td>190</td>\n",
       "      <td>353</td>\n",
       "      <td>285</td>\n",
       "      <td>86</td>\n",
       "      <td>203</td>\n",
       "      <td>172</td>\n",
       "      <td>63</td>\n",
       "      <td>229</td>\n",
       "    </tr>\n",
       "    <tr>\n",
       "      <th>4</th>\n",
       "      <td>126</td>\n",
       "      <td>247</td>\n",
       "      <td>336</td>\n",
       "      <td>116</td>\n",
       "      <td>314</td>\n",
       "      <td>253</td>\n",
       "      <td>237</td>\n",
       "      <td>200</td>\n",
       "      <td>117</td>\n",
       "      <td>38</td>\n",
       "      <td>...</td>\n",
       "      <td>307</td>\n",
       "      <td>81</td>\n",
       "      <td>239</td>\n",
       "      <td>160</td>\n",
       "      <td>227</td>\n",
       "      <td>266</td>\n",
       "      <td>186</td>\n",
       "      <td>194</td>\n",
       "      <td>347</td>\n",
       "      <td>60</td>\n",
       "    </tr>\n",
       "    <tr>\n",
       "      <th>...</th>\n",
       "      <td>...</td>\n",
       "      <td>...</td>\n",
       "      <td>...</td>\n",
       "      <td>...</td>\n",
       "      <td>...</td>\n",
       "      <td>...</td>\n",
       "      <td>...</td>\n",
       "      <td>...</td>\n",
       "      <td>...</td>\n",
       "      <td>...</td>\n",
       "      <td>...</td>\n",
       "      <td>...</td>\n",
       "      <td>...</td>\n",
       "      <td>...</td>\n",
       "      <td>...</td>\n",
       "      <td>...</td>\n",
       "      <td>...</td>\n",
       "      <td>...</td>\n",
       "      <td>...</td>\n",
       "      <td>...</td>\n",
       "      <td>...</td>\n",
       "    </tr>\n",
       "    <tr>\n",
       "      <th>9995</th>\n",
       "      <td>137</td>\n",
       "      <td>124</td>\n",
       "      <td>49</td>\n",
       "      <td>323</td>\n",
       "      <td>222</td>\n",
       "      <td>69</td>\n",
       "      <td>265</td>\n",
       "      <td>134</td>\n",
       "      <td>25</td>\n",
       "      <td>261</td>\n",
       "      <td>...</td>\n",
       "      <td>145</td>\n",
       "      <td>265</td>\n",
       "      <td>8</td>\n",
       "      <td>25</td>\n",
       "      <td>280</td>\n",
       "      <td>177</td>\n",
       "      <td>19</td>\n",
       "      <td>230</td>\n",
       "      <td>61</td>\n",
       "      <td>69</td>\n",
       "    </tr>\n",
       "    <tr>\n",
       "      <th>9996</th>\n",
       "      <td>339</td>\n",
       "      <td>37</td>\n",
       "      <td>119</td>\n",
       "      <td>333</td>\n",
       "      <td>115</td>\n",
       "      <td>344</td>\n",
       "      <td>234</td>\n",
       "      <td>102</td>\n",
       "      <td>109</td>\n",
       "      <td>319</td>\n",
       "      <td>...</td>\n",
       "      <td>4</td>\n",
       "      <td>170</td>\n",
       "      <td>324</td>\n",
       "      <td>347</td>\n",
       "      <td>89</td>\n",
       "      <td>169</td>\n",
       "      <td>320</td>\n",
       "      <td>296</td>\n",
       "      <td>13</td>\n",
       "      <td>144</td>\n",
       "    </tr>\n",
       "    <tr>\n",
       "      <th>9997</th>\n",
       "      <td>361</td>\n",
       "      <td>329</td>\n",
       "      <td>19</td>\n",
       "      <td>142</td>\n",
       "      <td>26</td>\n",
       "      <td>158</td>\n",
       "      <td>51</td>\n",
       "      <td>156</td>\n",
       "      <td>287</td>\n",
       "      <td>258</td>\n",
       "      <td>...</td>\n",
       "      <td>106</td>\n",
       "      <td>314</td>\n",
       "      <td>249</td>\n",
       "      <td>27</td>\n",
       "      <td>288</td>\n",
       "      <td>152</td>\n",
       "      <td>303</td>\n",
       "      <td>154</td>\n",
       "      <td>335</td>\n",
       "      <td>271</td>\n",
       "    </tr>\n",
       "    <tr>\n",
       "      <th>9998</th>\n",
       "      <td>263</td>\n",
       "      <td>295</td>\n",
       "      <td>4</td>\n",
       "      <td>124</td>\n",
       "      <td>265</td>\n",
       "      <td>245</td>\n",
       "      <td>122</td>\n",
       "      <td>20</td>\n",
       "      <td>354</td>\n",
       "      <td>283</td>\n",
       "      <td>...</td>\n",
       "      <td>175</td>\n",
       "      <td>16</td>\n",
       "      <td>341</td>\n",
       "      <td>186</td>\n",
       "      <td>330</td>\n",
       "      <td>256</td>\n",
       "      <td>82</td>\n",
       "      <td>331</td>\n",
       "      <td>124</td>\n",
       "      <td>158</td>\n",
       "    </tr>\n",
       "    <tr>\n",
       "      <th>9999</th>\n",
       "      <td>228</td>\n",
       "      <td>195</td>\n",
       "      <td>325</td>\n",
       "      <td>253</td>\n",
       "      <td>362</td>\n",
       "      <td>107</td>\n",
       "      <td>65</td>\n",
       "      <td>169</td>\n",
       "      <td>221</td>\n",
       "      <td>174</td>\n",
       "      <td>...</td>\n",
       "      <td>179</td>\n",
       "      <td>118</td>\n",
       "      <td>67</td>\n",
       "      <td>360</td>\n",
       "      <td>319</td>\n",
       "      <td>147</td>\n",
       "      <td>26</td>\n",
       "      <td>27</td>\n",
       "      <td>73</td>\n",
       "      <td>109</td>\n",
       "    </tr>\n",
       "  </tbody>\n",
       "</table>\n",
       "<p>10000 rows × 23 columns</p>\n",
       "</div>"
      ],
      "text/plain": [
       "       0    1    2    3    4    5    6    7    8    9   ...   13   14   15  \\\n",
       "0      61  172  198  119  117  179  228  334  125   45  ...  255  224  282   \n",
       "1     172  203  307  265   38  201  318  285  115  125  ...  358   90  355   \n",
       "2     266  114  228    2  308  305  182  231  203   18  ...  236  257  201   \n",
       "3     320  263  345   90   37    9  281   27  120  214  ...  257   57  190   \n",
       "4     126  247  336  116  314  253  237  200  117   38  ...  307   81  239   \n",
       "...   ...  ...  ...  ...  ...  ...  ...  ...  ...  ...  ...  ...  ...  ...   \n",
       "9995  137  124   49  323  222   69  265  134   25  261  ...  145  265    8   \n",
       "9996  339   37  119  333  115  344  234  102  109  319  ...    4  170  324   \n",
       "9997  361  329   19  142   26  158   51  156  287  258  ...  106  314  249   \n",
       "9998  263  295    4  124  265  245  122   20  354  283  ...  175   16  341   \n",
       "9999  228  195  325  253  362  107   65  169  221  174  ...  179  118   67   \n",
       "\n",
       "       16   17   18   19   20   21   22  \n",
       "0     162  164   25  114  254   23   28  \n",
       "1      38   80  324  201  348   27  237  \n",
       "2     296  230  297  122  359  188  115  \n",
       "3     353  285   86  203  172   63  229  \n",
       "4     160  227  266  186  194  347   60  \n",
       "...   ...  ...  ...  ...  ...  ...  ...  \n",
       "9995   25  280  177   19  230   61   69  \n",
       "9996  347   89  169  320  296   13  144  \n",
       "9997   27  288  152  303  154  335  271  \n",
       "9998  186  330  256   82  331  124  158  \n",
       "9999  360  319  147   26   27   73  109  \n",
       "\n",
       "[10000 rows x 23 columns]"
      ]
     },
     "execution_count": 420,
     "metadata": {},
     "output_type": "execute_result"
    }
   ],
   "source": [
    "days = ncols = 23\n",
    "trials = nrows = 10_000\n",
    "\n",
    "birthdays = np.random.choice(range(1,366), nrows * ncols).reshape(nrows, ncols)\n",
    "birthdays = pd.DataFrame(birthdays)\n",
    "birthdays"
   ]
  },
  {
   "cell_type": "markdown",
   "id": "470d38ae",
   "metadata": {},
   "source": [
    "### class examples\n"
   ]
  },
  {
   "cell_type": "code",
   "execution_count": 497,
   "id": "38106e1a",
   "metadata": {},
   "outputs": [
    {
     "data": {
      "text/plain": [
       "array([[266, 149, 188, ...,  65, 212, 224],\n",
       "       [100, 200, 109, ..., 232, 179, 277],\n",
       "       [144,  23, 253, ..., 191,  44, 290],\n",
       "       ...,\n",
       "       [282,  94, 180, ..., 187, 143,  22],\n",
       "       [124, 139, 313, ...,  12, 105, 253],\n",
       "       [327, 199, 303, ...,  52, 146, 239]])"
      ]
     },
     "execution_count": 497,
     "metadata": {},
     "output_type": "execute_result"
    }
   ],
   "source": [
    "outcomes = range(1, 366)\n",
    "n_students = 40\n",
    "\n",
    "birthdays = np.random.choice(outcomes, size=(n_simulations, n_students))\n",
    "birthdays"
   ]
  },
  {
   "cell_type": "code",
   "execution_count": 498,
   "id": "44134177",
   "metadata": {},
   "outputs": [
    {
     "data": {
      "text/html": [
       "<div>\n",
       "<style scoped>\n",
       "    .dataframe tbody tr th:only-of-type {\n",
       "        vertical-align: middle;\n",
       "    }\n",
       "\n",
       "    .dataframe tbody tr th {\n",
       "        vertical-align: top;\n",
       "    }\n",
       "\n",
       "    .dataframe thead th {\n",
       "        text-align: right;\n",
       "    }\n",
       "</style>\n",
       "<table border=\"1\" class=\"dataframe\">\n",
       "  <thead>\n",
       "    <tr style=\"text-align: right;\">\n",
       "      <th></th>\n",
       "      <th>0</th>\n",
       "      <th>1</th>\n",
       "      <th>2</th>\n",
       "      <th>3</th>\n",
       "      <th>4</th>\n",
       "      <th>5</th>\n",
       "      <th>6</th>\n",
       "      <th>7</th>\n",
       "      <th>8</th>\n",
       "      <th>9</th>\n",
       "      <th>...</th>\n",
       "      <th>30</th>\n",
       "      <th>31</th>\n",
       "      <th>32</th>\n",
       "      <th>33</th>\n",
       "      <th>34</th>\n",
       "      <th>35</th>\n",
       "      <th>36</th>\n",
       "      <th>37</th>\n",
       "      <th>38</th>\n",
       "      <th>39</th>\n",
       "    </tr>\n",
       "  </thead>\n",
       "  <tbody>\n",
       "    <tr>\n",
       "      <th>0</th>\n",
       "      <td>266</td>\n",
       "      <td>149</td>\n",
       "      <td>188</td>\n",
       "      <td>272</td>\n",
       "      <td>192</td>\n",
       "      <td>27</td>\n",
       "      <td>180</td>\n",
       "      <td>286</td>\n",
       "      <td>39</td>\n",
       "      <td>23</td>\n",
       "      <td>...</td>\n",
       "      <td>98</td>\n",
       "      <td>70</td>\n",
       "      <td>233</td>\n",
       "      <td>115</td>\n",
       "      <td>212</td>\n",
       "      <td>198</td>\n",
       "      <td>179</td>\n",
       "      <td>65</td>\n",
       "      <td>212</td>\n",
       "      <td>224</td>\n",
       "    </tr>\n",
       "    <tr>\n",
       "      <th>1</th>\n",
       "      <td>100</td>\n",
       "      <td>200</td>\n",
       "      <td>109</td>\n",
       "      <td>167</td>\n",
       "      <td>133</td>\n",
       "      <td>7</td>\n",
       "      <td>333</td>\n",
       "      <td>332</td>\n",
       "      <td>140</td>\n",
       "      <td>216</td>\n",
       "      <td>...</td>\n",
       "      <td>89</td>\n",
       "      <td>228</td>\n",
       "      <td>123</td>\n",
       "      <td>351</td>\n",
       "      <td>296</td>\n",
       "      <td>232</td>\n",
       "      <td>69</td>\n",
       "      <td>232</td>\n",
       "      <td>179</td>\n",
       "      <td>277</td>\n",
       "    </tr>\n",
       "    <tr>\n",
       "      <th>2</th>\n",
       "      <td>144</td>\n",
       "      <td>23</td>\n",
       "      <td>253</td>\n",
       "      <td>303</td>\n",
       "      <td>42</td>\n",
       "      <td>301</td>\n",
       "      <td>8</td>\n",
       "      <td>321</td>\n",
       "      <td>210</td>\n",
       "      <td>5</td>\n",
       "      <td>...</td>\n",
       "      <td>138</td>\n",
       "      <td>328</td>\n",
       "      <td>308</td>\n",
       "      <td>179</td>\n",
       "      <td>238</td>\n",
       "      <td>7</td>\n",
       "      <td>61</td>\n",
       "      <td>191</td>\n",
       "      <td>44</td>\n",
       "      <td>290</td>\n",
       "    </tr>\n",
       "    <tr>\n",
       "      <th>3</th>\n",
       "      <td>349</td>\n",
       "      <td>222</td>\n",
       "      <td>104</td>\n",
       "      <td>78</td>\n",
       "      <td>261</td>\n",
       "      <td>105</td>\n",
       "      <td>112</td>\n",
       "      <td>231</td>\n",
       "      <td>66</td>\n",
       "      <td>68</td>\n",
       "      <td>...</td>\n",
       "      <td>26</td>\n",
       "      <td>299</td>\n",
       "      <td>248</td>\n",
       "      <td>106</td>\n",
       "      <td>252</td>\n",
       "      <td>356</td>\n",
       "      <td>344</td>\n",
       "      <td>130</td>\n",
       "      <td>346</td>\n",
       "      <td>344</td>\n",
       "    </tr>\n",
       "    <tr>\n",
       "      <th>4</th>\n",
       "      <td>217</td>\n",
       "      <td>346</td>\n",
       "      <td>177</td>\n",
       "      <td>37</td>\n",
       "      <td>91</td>\n",
       "      <td>73</td>\n",
       "      <td>14</td>\n",
       "      <td>222</td>\n",
       "      <td>219</td>\n",
       "      <td>318</td>\n",
       "      <td>...</td>\n",
       "      <td>32</td>\n",
       "      <td>29</td>\n",
       "      <td>181</td>\n",
       "      <td>239</td>\n",
       "      <td>286</td>\n",
       "      <td>263</td>\n",
       "      <td>174</td>\n",
       "      <td>69</td>\n",
       "      <td>332</td>\n",
       "      <td>230</td>\n",
       "    </tr>\n",
       "  </tbody>\n",
       "</table>\n",
       "<p>5 rows × 40 columns</p>\n",
       "</div>"
      ],
      "text/plain": [
       "    0    1    2    3    4    5    6    7    8    9   ...   30   31   32   33  \\\n",
       "0  266  149  188  272  192   27  180  286   39   23  ...   98   70  233  115   \n",
       "1  100  200  109  167  133    7  333  332  140  216  ...   89  228  123  351   \n",
       "2  144   23  253  303   42  301    8  321  210    5  ...  138  328  308  179   \n",
       "3  349  222  104   78  261  105  112  231   66   68  ...   26  299  248  106   \n",
       "4  217  346  177   37   91   73   14  222  219  318  ...   32   29  181  239   \n",
       "\n",
       "    34   35   36   37   38   39  \n",
       "0  212  198  179   65  212  224  \n",
       "1  296  232   69  232  179  277  \n",
       "2  238    7   61  191   44  290  \n",
       "3  252  356  344  130  346  344  \n",
       "4  286  263  174   69  332  230  \n",
       "\n",
       "[5 rows x 40 columns]"
      ]
     },
     "execution_count": 498,
     "metadata": {},
     "output_type": "execute_result"
    }
   ],
   "source": [
    "birthdays = pd.DataFrame(birthdays)\n",
    "birthdays.head()"
   ]
  },
  {
   "cell_type": "code",
   "execution_count": 492,
   "id": "d774d874",
   "metadata": {},
   "outputs": [
    {
     "data": {
      "text/plain": [
       "0.50771"
      ]
     },
     "execution_count": 492,
     "metadata": {},
     "output_type": "execute_result"
    }
   ],
   "source": [
    "(birthdays.nunique(axis=1) < 23).mean()"
   ]
  },
  {
   "cell_type": "code",
   "execution_count": 496,
   "id": "3e918a3e",
   "metadata": {},
   "outputs": [
    {
     "data": {
      "text/plain": [
       "0.41471"
      ]
     },
     "execution_count": 496,
     "metadata": {},
     "output_type": "execute_result"
    }
   ],
   "source": [
    "(birthdays.nunique(axis=1) < 20).mean()"
   ]
  },
  {
   "cell_type": "code",
   "execution_count": 499,
   "id": "21364256",
   "metadata": {},
   "outputs": [
    {
     "data": {
      "text/plain": [
       "0.89116"
      ]
     },
     "execution_count": 499,
     "metadata": {},
     "output_type": "execute_result"
    }
   ],
   "source": [
    "(birthdays.nunique(axis=1) < 40).mean()"
   ]
  }
 ],
 "metadata": {
  "kernelspec": {
   "display_name": "Python 3 (ipykernel)",
   "language": "python",
   "name": "python3"
  },
  "language_info": {
   "codemirror_mode": {
    "name": "ipython",
    "version": 3
   },
   "file_extension": ".py",
   "mimetype": "text/x-python",
   "name": "python",
   "nbconvert_exporter": "python",
   "pygments_lexer": "ipython3",
   "version": "3.9.13"
  }
 },
 "nbformat": 4,
 "nbformat_minor": 5
}

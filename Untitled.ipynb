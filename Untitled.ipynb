{
 "cells": [
  {
   "cell_type": "code",
   "execution_count": 6,
   "id": "d0d41e16",
   "metadata": {},
   "outputs": [],
   "source": [
    "import pandas as pd\n",
    "import numpy as np\n",
    "import matplotlib.pyplot as plt\n",
    "import seaborn as sns\n",
    "import math\n",
    "from pydataset import data\n",
    "import scipy.stats as stats\n",
    "from scipy.stats import norm\n",
    "\n"
   ]
  },
  {
   "cell_type": "code",
   "execution_count": null,
   "id": "e3230608",
   "metadata": {},
   "outputs": [],
   "source": [
    "# 10% customers complete the survey\n",
    "#618 customers today\n",
    "#likelihood that 70 or more people complete the survey\n"
   ]
  },
  {
   "cell_type": "code",
   "execution_count": 7,
   "id": "d0eecd47",
   "metadata": {},
   "outputs": [
    {
     "data": {
      "text/plain": [
       "0.15107528710209764"
      ]
     },
     "execution_count": 7,
     "metadata": {},
     "output_type": "execute_result"
    }
   ],
   "source": [
    "stats.binom(618, .10).sf(69)"
   ]
  },
  {
   "cell_type": "code",
   "execution_count": 8,
   "id": "29602d1f",
   "metadata": {},
   "outputs": [
    {
     "data": {
      "text/plain": [
       "<scipy.stats._distn_infrastructure.rv_discrete_frozen at 0x1562a52e0>"
      ]
     },
     "execution_count": 8,
     "metadata": {},
     "output_type": "execute_result"
    }
   ],
   "source": [
    "stats.binom(20, .90)"
   ]
  },
  {
   "cell_type": "code",
   "execution_count": 10,
   "id": "8d9ee8fd",
   "metadata": {},
   "outputs": [],
   "source": [
    "#time require on average 40 minutes\n",
    "#std 15\n",
    "#10 minute walk, 60 minute break\n",
    "\n",
    "lunch = np.random.normal(40, 15, 10000)"
   ]
  },
  {
   "cell_type": "code",
   "execution_count": 13,
   "id": "8afd76c4",
   "metadata": {},
   "outputs": [
    {
     "data": {
      "text/plain": [
       "array([52.1142313 , 53.08999858, 38.4515391 , ..., 28.77908085,\n",
       "       51.12805633, 31.98813874])"
      ]
     },
     "execution_count": 13,
     "metadata": {},
     "output_type": "execute_result"
    }
   ],
   "source": [
    "mn = 40\n",
    "stdev = 15\n",
    "\n",
    "lunch = stats.norm(mn, stdev)\n",
    "lunch_time = lunch.rvs(10000)\n",
    "lunch_time"
   ]
  },
  {
   "cell_type": "code",
   "execution_count": 14,
   "id": "1ed16660",
   "metadata": {},
   "outputs": [
    {
     "data": {
      "text/plain": [
       "0.748"
      ]
     },
     "execution_count": 14,
     "metadata": {},
     "output_type": "execute_result"
    }
   ],
   "source": [
    "within_limit = lunch_time < 50\n",
    "sum(within_limit) / len(within_limit)"
   ]
  },
  {
   "cell_type": "code",
   "execution_count": null,
   "id": "8d3c5cc0",
   "metadata": {},
   "outputs": [],
   "source": []
  }
 ],
 "metadata": {
  "kernelspec": {
   "display_name": "Python 3 (ipykernel)",
   "language": "python",
   "name": "python3"
  },
  "language_info": {
   "codemirror_mode": {
    "name": "ipython",
    "version": 3
   },
   "file_extension": ".py",
   "mimetype": "text/x-python",
   "name": "python",
   "nbconvert_exporter": "python",
   "pygments_lexer": "ipython3",
   "version": "3.9.13"
  }
 },
 "nbformat": 4,
 "nbformat_minor": 5
}

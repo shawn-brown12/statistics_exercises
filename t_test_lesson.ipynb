{
 "cells": [
  {
   "cell_type": "markdown",
   "id": "2e3efd8f",
   "metadata": {},
   "source": [
    "## Central Limit Theorem"
   ]
  },
  {
   "cell_type": "markdown",
   "id": "ff791225",
   "metadata": {},
   "source": [
    "- A population that is not necessarily normally distributed\n",
    "- Taking samples of sufficient size will result in normally distributed sample means\n"
   ]
  },
  {
   "cell_type": "code",
   "execution_count": 13,
   "id": "5f8bffa4",
   "metadata": {},
   "outputs": [],
   "source": [
    "import numpy as np\n",
    "import pandas as pd\n",
    "import seaborn as sns\n",
    "import scipy.stats as stats\n",
    "import matplotlib.pyplot as plt\n",
    "import env\n",
    "import os\n",
    "\n",
    "np.random.seed(123)"
   ]
  },
  {
   "cell_type": "code",
   "execution_count": 3,
   "id": "484dd293",
   "metadata": {},
   "outputs": [
    {
     "data": {
      "text/plain": [
       "array([[6, 3, 5, 3, 2, 4, 3, 4, 2, 2],\n",
       "       [1, 2, 2, 1, 1, 2, 4, 6, 5, 1],\n",
       "       [1, 5, 2, 4, 3, 5, 3, 5, 1, 6],\n",
       "       [1, 2, 4, 5, 5, 5, 2, 6, 4, 3]])"
      ]
     },
     "execution_count": 3,
     "metadata": {},
     "output_type": "execute_result"
    }
   ],
   "source": [
    "# Define a roll [1, 2, 3, 4, 5, 6]\n",
    "\n",
    "#set a sample of 10\n",
    "n_dice_per_experiment = ncols = 10\n",
    "n_experiments = nrows = 100\n",
    "\n",
    "#100 rows and 10 columns\n",
    "data = np.random.randint(1, 7, (nrows, ncols))\n",
    "\n",
    "#view some outcomes\n",
    "data[:4]"
   ]
  },
  {
   "cell_type": "code",
   "execution_count": 4,
   "id": "a538db99",
   "metadata": {},
   "outputs": [
    {
     "data": {
      "text/plain": [
       "array([3.4, 2.5, 3.5, 3.7, 3.2, 4.7, 3.4, 3.2, 3.4, 3. , 3.7, 3.5, 4. ,\n",
       "       4.5, 2.9, 2.8, 2.9, 3.8, 3.2, 3.6, 3.4, 4. , 3.5, 3.3, 3.6, 3. ,\n",
       "       4.3, 3. , 3.3, 3.2, 4.2, 3.9, 3.2, 3.8, 3.6, 3.4, 2.7, 3.4, 3.2,\n",
       "       3.1, 3.2, 3. , 4.1, 3.3, 3. , 4.1, 3.4, 3.3, 2.9, 3.8, 3.4, 3.6,\n",
       "       3.9, 3.2, 4.7, 3.8, 3.5, 2.8, 3.8, 4.7, 4.1, 3.5, 2.8, 3.7, 3.4,\n",
       "       3.7, 3.6, 4.1, 3.6, 3.5, 2.9, 4. , 3.2, 3.4, 4.4, 2.9, 3.2, 3.9,\n",
       "       1.9, 3. , 3. , 3.5, 3.3, 4.4, 3.4, 4.2, 4.1, 3.2, 3.5, 3.5, 3.8,\n",
       "       3.1, 3.6, 2.9, 2.9, 4. , 3.3, 3.1, 3.4, 3.6])"
      ]
     },
     "execution_count": 4,
     "metadata": {},
     "output_type": "execute_result"
    }
   ],
   "source": [
    "calculated_averages = data.mean(axis=1)\n",
    "calculated_averages"
   ]
  },
  {
   "cell_type": "code",
   "execution_count": 8,
   "id": "663b38c4",
   "metadata": {},
   "outputs": [
    {
     "data": {
      "text/plain": [
       "Text(0.5, 1.0, 'Outcoming Averaging 10 dice rolls 100 times')"
      ]
     },
     "execution_count": 8,
     "metadata": {},
     "output_type": "execute_result"
    },
    {
     "data": {
      "image/png": "[encoded data removed]",
      "text/plain": [
       "<Figure size 640x480 with 1 Axes>"
      ]
     },
     "metadata": {},
     "output_type": "display_data"
    }
   ],
   "source": [
    "plt.hist(calculated_averages)\n",
    "\n",
    "plt.xlabel(f'Average of {n_dice_per_experiment} dice rolls')\n",
    "plt.ylabel('Number of Occurences')\n",
    "plt.title(f'Outcoming Averaging {n_dice_per_experiment} dice rolls {n_experiments} times')"
   ]
  },
  {
   "cell_type": "markdown",
   "id": "48e007a7",
   "metadata": {},
   "source": [
    "### One Sample T-test"
   ]
  },
  {
   "cell_type": "markdown",
   "id": "fc17ccb8",
   "metadata": {},
   "source": [
    "Comparing an observed mean to a theoretical one\n",
    "- Plot distributions\n",
    "- Establish the hypothesis \n"
   ]
  },
  {
   "cell_type": "code",
   "execution_count": 17,
   "id": "aaf5bc17",
   "metadata": {},
   "outputs": [],
   "source": [
    "def get_db_url(db, env_file=os.path.exists('env.py')):\n",
    "    \n",
    "    if env_file:    \n",
    "        username, password, host = (env.username, env.password, env.host)   \n",
    "        return f'mysql+pymysql://{username}:{password}@{host}/{db}'\n",
    "    else: \n",
    "        return \"Hellooooo, you need a username and password, genius.\"\n",
    "\n",
    "url = get_db_url('telco_churn')\n",
    "query = 'SELECT * FROM customers'\n",
    "telco_churn = pd.read_sql(query, url)"
   ]
  },
  {
   "cell_type": "code",
   "execution_count": 18,
   "id": "672dd37b",
   "metadata": {},
   "outputs": [
    {
     "data": {
      "text/html": [
       "<div>\n",
       "<style scoped>\n",
       "    .dataframe tbody tr th:only-of-type {\n",
       "        vertical-align: middle;\n",
       "    }\n",
       "\n",
       "    .dataframe tbody tr th {\n",
       "        vertical-align: top;\n",
       "    }\n",
       "\n",
       "    .dataframe thead th {\n",
       "        text-align: right;\n",
       "    }\n",
       "</style>\n",
       "<table border=\"1\" class=\"dataframe\">\n",
       "  <thead>\n",
       "    <tr style=\"text-align: right;\">\n",
       "      <th></th>\n",
       "      <th>customer_id</th>\n",
       "      <th>gender</th>\n",
       "      <th>senior_citizen</th>\n",
       "      <th>partner</th>\n",
       "      <th>dependents</th>\n",
       "      <th>tenure</th>\n",
       "      <th>phone_service</th>\n",
       "      <th>multiple_lines</th>\n",
       "      <th>internet_service_type_id</th>\n",
       "      <th>online_security</th>\n",
       "      <th>...</th>\n",
       "      <th>device_protection</th>\n",
       "      <th>tech_support</th>\n",
       "      <th>streaming_tv</th>\n",
       "      <th>streaming_movies</th>\n",
       "      <th>contract_type_id</th>\n",
       "      <th>paperless_billing</th>\n",
       "      <th>payment_type_id</th>\n",
       "      <th>monthly_charges</th>\n",
       "      <th>total_charges</th>\n",
       "      <th>churn</th>\n",
       "    </tr>\n",
       "  </thead>\n",
       "  <tbody>\n",
       "    <tr>\n",
       "      <th>0</th>\n",
       "      <td>0002-ORFBO</td>\n",
       "      <td>Female</td>\n",
       "      <td>0</td>\n",
       "      <td>Yes</td>\n",
       "      <td>Yes</td>\n",
       "      <td>9</td>\n",
       "      <td>Yes</td>\n",
       "      <td>No</td>\n",
       "      <td>1</td>\n",
       "      <td>No</td>\n",
       "      <td>...</td>\n",
       "      <td>No</td>\n",
       "      <td>Yes</td>\n",
       "      <td>Yes</td>\n",
       "      <td>No</td>\n",
       "      <td>2</td>\n",
       "      <td>Yes</td>\n",
       "      <td>2</td>\n",
       "      <td>65.6</td>\n",
       "      <td>593.3</td>\n",
       "      <td>No</td>\n",
       "    </tr>\n",
       "    <tr>\n",
       "      <th>1</th>\n",
       "      <td>0003-MKNFE</td>\n",
       "      <td>Male</td>\n",
       "      <td>0</td>\n",
       "      <td>No</td>\n",
       "      <td>No</td>\n",
       "      <td>9</td>\n",
       "      <td>Yes</td>\n",
       "      <td>Yes</td>\n",
       "      <td>1</td>\n",
       "      <td>No</td>\n",
       "      <td>...</td>\n",
       "      <td>No</td>\n",
       "      <td>No</td>\n",
       "      <td>No</td>\n",
       "      <td>Yes</td>\n",
       "      <td>1</td>\n",
       "      <td>No</td>\n",
       "      <td>2</td>\n",
       "      <td>59.9</td>\n",
       "      <td>542.4</td>\n",
       "      <td>No</td>\n",
       "    </tr>\n",
       "    <tr>\n",
       "      <th>2</th>\n",
       "      <td>0004-TLHLJ</td>\n",
       "      <td>Male</td>\n",
       "      <td>0</td>\n",
       "      <td>No</td>\n",
       "      <td>No</td>\n",
       "      <td>4</td>\n",
       "      <td>Yes</td>\n",
       "      <td>No</td>\n",
       "      <td>2</td>\n",
       "      <td>No</td>\n",
       "      <td>...</td>\n",
       "      <td>Yes</td>\n",
       "      <td>No</td>\n",
       "      <td>No</td>\n",
       "      <td>No</td>\n",
       "      <td>1</td>\n",
       "      <td>Yes</td>\n",
       "      <td>1</td>\n",
       "      <td>73.9</td>\n",
       "      <td>280.85</td>\n",
       "      <td>Yes</td>\n",
       "    </tr>\n",
       "    <tr>\n",
       "      <th>3</th>\n",
       "      <td>0011-IGKFF</td>\n",
       "      <td>Male</td>\n",
       "      <td>1</td>\n",
       "      <td>Yes</td>\n",
       "      <td>No</td>\n",
       "      <td>13</td>\n",
       "      <td>Yes</td>\n",
       "      <td>No</td>\n",
       "      <td>2</td>\n",
       "      <td>No</td>\n",
       "      <td>...</td>\n",
       "      <td>Yes</td>\n",
       "      <td>No</td>\n",
       "      <td>Yes</td>\n",
       "      <td>Yes</td>\n",
       "      <td>1</td>\n",
       "      <td>Yes</td>\n",
       "      <td>1</td>\n",
       "      <td>98.0</td>\n",
       "      <td>1237.85</td>\n",
       "      <td>Yes</td>\n",
       "    </tr>\n",
       "    <tr>\n",
       "      <th>4</th>\n",
       "      <td>0013-EXCHZ</td>\n",
       "      <td>Female</td>\n",
       "      <td>1</td>\n",
       "      <td>Yes</td>\n",
       "      <td>No</td>\n",
       "      <td>3</td>\n",
       "      <td>Yes</td>\n",
       "      <td>No</td>\n",
       "      <td>2</td>\n",
       "      <td>No</td>\n",
       "      <td>...</td>\n",
       "      <td>No</td>\n",
       "      <td>Yes</td>\n",
       "      <td>Yes</td>\n",
       "      <td>No</td>\n",
       "      <td>1</td>\n",
       "      <td>Yes</td>\n",
       "      <td>2</td>\n",
       "      <td>83.9</td>\n",
       "      <td>267.4</td>\n",
       "      <td>Yes</td>\n",
       "    </tr>\n",
       "  </tbody>\n",
       "</table>\n",
       "<p>5 rows × 21 columns</p>\n",
       "</div>"
      ],
      "text/plain": [
       "  customer_id  gender  senior_citizen partner dependents  tenure  \\\n",
       "0  0002-ORFBO  Female               0     Yes        Yes       9   \n",
       "1  0003-MKNFE    Male               0      No         No       9   \n",
       "2  0004-TLHLJ    Male               0      No         No       4   \n",
       "3  0011-IGKFF    Male               1     Yes         No      13   \n",
       "4  0013-EXCHZ  Female               1     Yes         No       3   \n",
       "\n",
       "  phone_service multiple_lines  internet_service_type_id online_security  ...  \\\n",
       "0           Yes             No                         1              No  ...   \n",
       "1           Yes            Yes                         1              No  ...   \n",
       "2           Yes             No                         2              No  ...   \n",
       "3           Yes             No                         2              No  ...   \n",
       "4           Yes             No                         2              No  ...   \n",
       "\n",
       "  device_protection tech_support streaming_tv streaming_movies  \\\n",
       "0                No          Yes          Yes               No   \n",
       "1                No           No           No              Yes   \n",
       "2               Yes           No           No               No   \n",
       "3               Yes           No          Yes              Yes   \n",
       "4                No          Yes          Yes               No   \n",
       "\n",
       "  contract_type_id  paperless_billing payment_type_id  monthly_charges  \\\n",
       "0                2                Yes               2             65.6   \n",
       "1                1                 No               2             59.9   \n",
       "2                1                Yes               1             73.9   \n",
       "3                1                Yes               1             98.0   \n",
       "4                1                Yes               2             83.9   \n",
       "\n",
       "   total_charges churn  \n",
       "0          593.3    No  \n",
       "1          542.4    No  \n",
       "2         280.85   Yes  \n",
       "3        1237.85   Yes  \n",
       "4          267.4   Yes  \n",
       "\n",
       "[5 rows x 21 columns]"
      ]
     },
     "execution_count": 18,
     "metadata": {},
     "output_type": "execute_result"
    }
   ],
   "source": [
    "telco_churn.head()"
   ]
  },
  {
   "cell_type": "code",
   "execution_count": 20,
   "id": "be64f360",
   "metadata": {},
   "outputs": [
    {
     "data": {
      "text/plain": [
       "<AxesSubplot:>"
      ]
     },
     "execution_count": 20,
     "metadata": {},
     "output_type": "execute_result"
    },
    {
     "data": {
      "image/png": "[encoded data removed]",
      "text/plain": [
       "<Figure size 640x480 with 1 Axes>"
      ]
     },
     "metadata": {},
     "output_type": "display_data"
    }
   ],
   "source": [
    "telco_churn.monthly_charges.hist()"
   ]
  },
  {
   "cell_type": "code",
   "execution_count": 23,
   "id": "3dd5d4aa",
   "metadata": {},
   "outputs": [
    {
     "data": {
      "text/plain": [
       "<AxesSubplot:>"
      ]
     },
     "execution_count": 23,
     "metadata": {},
     "output_type": "execute_result"
    },
    {
     "data": {
      "image/png": "[encoded data removed]",
      "text/plain": [
       "<Figure size 640x480 with 1 Axes>"
      ]
     },
     "metadata": {},
     "output_type": "display_data"
    }
   ],
   "source": [
    "#filter for a sample to churn\n",
    "churn_sample = telco_churn[telco_churn.churn == 'Yes'].monthly_charges\n",
    "\n",
    "#create a histogram\n",
    "churn_sample.hist()"
   ]
  },
  {
   "cell_type": "markdown",
   "id": "bcc54f96",
   "metadata": {},
   "source": [
    "### Set hypothesis \n",
    "\n",
    "H_0: mean of monthly charges of churned customers <= mean of monthly charges of all customers  \n",
    "H_a: mean of monthly charges of churned customers is > mean of monthly charges of all customers"
   ]
  },
  {
   "cell_type": "markdown",
   "id": "eb4ed56e",
   "metadata": {},
   "source": [
    "### Set an alpha value"
   ]
  },
  {
   "cell_type": "code",
   "execution_count": 31,
   "id": "24ffe5a9",
   "metadata": {},
   "outputs": [],
   "source": [
    "alpha = .05"
   ]
  },
  {
   "cell_type": "markdown",
   "id": "d593e325",
   "metadata": {},
   "source": [
    "### Verify an assumption of sample size"
   ]
  },
  {
   "cell_type": "code",
   "execution_count": 25,
   "id": "12a6d182",
   "metadata": {},
   "outputs": [
    {
     "data": {
      "text/plain": [
       "No     5174\n",
       "Yes    1869\n",
       "Name: churn, dtype: int64"
      ]
     },
     "execution_count": 25,
     "metadata": {},
     "output_type": "execute_result"
    }
   ],
   "source": [
    "telco_churn.churn.value_counts()"
   ]
  },
  {
   "cell_type": "markdown",
   "id": "6b66c623",
   "metadata": {},
   "source": [
    "### Compute Test Statistic\n",
    "\n"
   ]
  },
  {
   "cell_type": "code",
   "execution_count": 51,
   "id": "f8068645",
   "metadata": {},
   "outputs": [
    {
     "name": "stdout",
     "output_type": "stream",
     "text": [
      "16.96540308050567 1.8703196496911995e-60 0.05\n"
     ]
    }
   ],
   "source": [
    "#churned customer sample\n",
    "churn_sample = telco_churn[telco_churn.churn == 'Yes'].monthly_charges\n",
    "\n",
    "#overall mean\n",
    "overall_mean = telco_churn.monthly_charges.mean()\n",
    "\n",
    "#output of a 1 tail, 1 sample t test\n",
    "#specified the sample (churn_sample)\n",
    "#specified the overall_mean\n",
    "\n",
    "#stats.ttest_1samp(churn_sample, overall_mean)\n",
    "#assign the output to t (for t statistis) and p (p value)\n",
    "t, p = stats.ttest_1samp(churn_sample, overall_mean)\n",
    "\n",
    "#1 tail, since we are specifically looking at a mean that is GREATER than the overall customer mean\n",
    "print(t, p/2, alpha)"
   ]
  },
  {
   "cell_type": "code",
   "execution_count": 52,
   "id": "1849a908",
   "metadata": {},
   "outputs": [],
   "source": [
    "#look at t statistic\n",
    "#is t > 0\n",
    "\n",
    "#look at p/2 \n",
    "#is p/2 < alpha"
   ]
  },
  {
   "cell_type": "code",
   "execution_count": 53,
   "id": "a77f198f",
   "metadata": {},
   "outputs": [
    {
     "name": "stdout",
     "output_type": "stream",
     "text": [
      "We reject $H_{0}$\n"
     ]
    }
   ],
   "source": [
    "### The results based on the t statistic and p value\n",
    "\n",
    "if p/2 > alpha:\n",
    "    print('We fail the reject $H_{0}$')\n",
    "elif t < 0:\n",
    "    print('We fail the reject $H_{0}$')\n",
    "else:\n",
    "    print('We reject $H_{0}$')"
   ]
  },
  {
   "cell_type": "markdown",
   "id": "4f45e2f8",
   "metadata": {},
   "source": [
    "$H_{0}$"
   ]
  },
  {
   "cell_type": "markdown",
   "id": "ad9d80e7",
   "metadata": {},
   "source": [
    "### Two Sample T test"
   ]
  },
  {
   "cell_type": "markdown",
   "id": "01d6940e",
   "metadata": {},
   "source": [
    "#### Example\n",
    "\n",
    "Monthly charges of churned customers are significantly different accross all customers\n",
    "1 sample test, 2 tailed (because we are looking in both directions (greater than OR less than), not just one)\n",
    "\n",
    "$H_{0}$ - mean of churned customers == mean of overall customers  \n",
    "Ha - mean of churned customers != mean of overall customers"
   ]
  },
  {
   "cell_type": "markdown",
   "id": "efe786a1",
   "metadata": {},
   "source": [
    "#### Example 2\n",
    "\n",
    "Monthly charages of churned customers are significantly different than overall customers\n",
    "\n",
    "Null: the mean of charges for churned = mean of charges for overall customers  \n",
    "Alternative: the mean of charges for churned != mean of charges for overall customers\n"
   ]
  },
  {
   "cell_type": "code",
   "execution_count": 37,
   "id": "e811e4f2",
   "metadata": {},
   "outputs": [
    {
     "data": {
      "text/plain": [
       "(16.96540308050567, 3.740639299382399e-60, 0.05)"
      ]
     },
     "execution_count": 37,
     "metadata": {},
     "output_type": "execute_result"
    }
   ],
   "source": [
    "#Setup the test\n",
    "#Compute t-statistic and p-value\n",
    "\n",
    "t, p = stats.ttest_1samp(churn_sample, overall_mean)\n",
    "\n",
    "t, p, alpha"
   ]
  },
  {
   "cell_type": "code",
   "execution_count": 39,
   "id": "2a2371d2",
   "metadata": {},
   "outputs": [
    {
     "name": "stdout",
     "output_type": "stream",
     "text": [
      "We reject the $H_{0}$\n"
     ]
    }
   ],
   "source": [
    "#compare the calculated p-value to alpha\n",
    "\n",
    "p < alpha\n",
    "\n",
    "if p < alpha:\n",
    "    print('We reject the $H_{0}$')\n",
    "else :\n",
    "    print('We fail to reject $H_{0}$')"
   ]
  },
  {
   "cell_type": "markdown",
   "id": "9d52005e",
   "metadata": {},
   "source": [
    "#example \n",
    "\n",
    "The monthly charge for customers who churn is less than the mean of all customers\n",
    "\n",
    "- H_0: Monthly charges for customers who churn >= monthly charge for all customers\n",
    "- H_a: Monthly charges for customers who churn < monthly charge for all customers"
   ]
  },
  {
   "cell_type": "code",
   "execution_count": 48,
   "id": "f3c18cc2",
   "metadata": {},
   "outputs": [
    {
     "data": {
      "text/plain": [
       "(16.96540308050567, 1.8703196496911995e-60, 0.05)"
      ]
     },
     "execution_count": 48,
     "metadata": {},
     "output_type": "execute_result"
    }
   ],
   "source": [
    "#is this one tailed or two tailed?\n",
    "#is it 1 sample: Yes\n",
    "#1 - tail: comparision is strictly less than\n",
    "\n",
    "t, p = stats.ttest_1samp(churn_sample, overall_mean)\n",
    "\n",
    "t, p/2, alpha"
   ]
  },
  {
   "cell_type": "code",
   "execution_count": 50,
   "id": "9a51bfa6",
   "metadata": {},
   "outputs": [
    {
     "name": "stdout",
     "output_type": "stream",
     "text": [
      "True\n",
      "False\n"
     ]
    }
   ],
   "source": [
    "#is p/2 < alpha\n",
    "\n",
    "print(p/2 < alpha)\n",
    "\n",
    "#is t < 0\n",
    "\n",
    "print(t < 0)\n",
    "\n",
    "#to reject the null hypothesis: p/2 < alpha AND t < 0"
   ]
  },
  {
   "cell_type": "markdown",
   "id": "e6c2f2f1",
   "metadata": {},
   "source": [
    "#### Independent t-test (aka Two Sample t-test)\n",
    "\n",
    "Goal: Compare the mean of some group (A) to that of another group (B)\n",
    "\n",
    "Group A - Customers who churned  \n",
    "Group B - Customers who did not churn\n",
    "\n",
    "Verify assumptions:\n",
    "\n",
    "- Check that we have at least 30 obervations\n",
    "- Check independence\n",
    "- Equal variance\n",
    "        True - equal      False - not equal\n",
    "\n"
   ]
  },
  {
   "cell_type": "code",
   "execution_count": null,
   "id": "95244b06",
   "metadata": {},
   "outputs": [],
   "source": [
    "#set the alpha\n",
    "\n",
    "alpha = .05"
   ]
  },
  {
   "cell_type": "code",
   "execution_count": 44,
   "id": "25748940",
   "metadata": {},
   "outputs": [
    {
     "data": {
      "text/plain": [
       "<AxesSubplot:>"
      ]
     },
     "execution_count": 44,
     "metadata": {},
     "output_type": "execute_result"
    },
    {
     "data": {
      "image/png": "[encoded data removed]",
      "text/plain": [
       "<Figure size 640x480 with 1 Axes>"
      ]
     },
     "metadata": {},
     "output_type": "display_data"
    }
   ],
   "source": [
    "churned = telco_churn[telco_churn.churn == 'Yes'].monthly_charges\n",
    "\n",
    "churned.hist()"
   ]
  },
  {
   "cell_type": "markdown",
   "id": "00b5e9a0",
   "metadata": {},
   "source": [
    "Group B - Customers who haven't churned"
   ]
  },
  {
   "cell_type": "code",
   "execution_count": 45,
   "id": "a3c5b51d",
   "metadata": {},
   "outputs": [
    {
     "data": {
      "text/plain": [
       "<AxesSubplot:>"
      ]
     },
     "execution_count": 45,
     "metadata": {},
     "output_type": "execute_result"
    },
    {
     "data": {
      "image/png": "[encoded data removed]",
      "text/plain": [
       "<Figure size 640x480 with 1 Axes>"
      ]
     },
     "metadata": {},
     "output_type": "display_data"
    }
   ],
   "source": [
    "not_churned = telco_churn[telco_churn.churn == 'No'].monthly_charges\n",
    "\n",
    "not_churned.hist()"
   ]
  },
  {
   "cell_type": "code",
   "execution_count": 59,
   "id": "b39bdea0",
   "metadata": {},
   "outputs": [
    {
     "name": "stdout",
     "output_type": "stream",
     "text": [
      "608.4141833954315\n",
      "966.7527670734293\n"
     ]
    }
   ],
   "source": [
    "alpha = .05\n",
    "\n",
    "#find the variance of churn customers\n",
    "print(churned.var())\n",
    "\n",
    "#find the variance of non churn customers\n",
    "print(not_churned.var())\n",
    "\n",
    "#we will use the equal_var = False\n"
   ]
  },
  {
   "cell_type": "code",
   "execution_count": 62,
   "id": "5f6d9ded",
   "metadata": {},
   "outputs": [
    {
     "data": {
      "text/plain": [
       "(18.407526676414673, 4.296224665773525e-73, 0.05)"
      ]
     },
     "execution_count": 62,
     "metadata": {},
     "output_type": "execute_result"
    }
   ],
   "source": [
    "t, p = stats.ttest_ind(churned, not_churned, equal_var=False)\n",
    "\n",
    "#1 tail\n",
    "#comparing alpha and p/2\n",
    "\n",
    "t, p/2, alpha"
   ]
  },
  {
   "cell_type": "code",
   "execution_count": 67,
   "id": "3daf5135",
   "metadata": {},
   "outputs": [
    {
     "name": "stdout",
     "output_type": "stream",
     "text": [
      "We reject the null hypothesis.\n"
     ]
    }
   ],
   "source": [
    "#evaluate results\n",
    "\n",
    "p/2 < alpha\n",
    "\n",
    "#compare t-statistic \n",
    "\n",
    "t > 0 \n",
    "\n",
    "#p/2 is less than alpha\n",
    "#t is greater than 0\n",
    "\n",
    "#conclusion \n",
    "\n",
    "if p/2 > alpha:\n",
    "    print('We fail to reject the null hypothesis.')\n",
    "elif t < 0:\n",
    "    print('We fail to reject the null hypothesis.')\n",
    "else:\n",
    "    print('We reject the null hypothesis.')"
   ]
  },
  {
   "cell_type": "markdown",
   "id": "985d3fa8",
   "metadata": {},
   "source": [
    "### Customers who churn are charged more than customers who do not churn\n",
    "\n",
    "\n",
    "#### Set a hypothesis\n",
    "\n",
    "H_0: Group who churn     <=     Group who do not churn  \n",
    "H_a: Monthly charges of group who churn      >     Monthly charges of group who do not churn\n",
    "\n"
   ]
  },
  {
   "cell_type": "markdown",
   "id": "ce15b20e",
   "metadata": {},
   "source": [
    "#### example 2\n",
    "\n",
    "Are monthly charges for customers who churn significantly different than the monthly charges of those who don't churn?\n",
    "\n",
    "#### Hypothesis statement\n",
    "\n",
    "H_0: Monthly charges are equal  \n",
    "H_a: Monthly charges for churned and not churned are not equal\n",
    "\n",
    "#### Two-tailed\n",
    "\n",
    "- Compare p to alpha\n",
    "\n"
   ]
  },
  {
   "cell_type": "code",
   "execution_count": 70,
   "id": "77c72a74",
   "metadata": {},
   "outputs": [
    {
     "data": {
      "text/plain": [
       "(18.407526676414673, 8.59244933154705e-73)"
      ]
     },
     "execution_count": 70,
     "metadata": {},
     "output_type": "execute_result"
    }
   ],
   "source": [
    "t, p = stats.ttest_ind(churned, not_churned, equal_var=False)\n",
    "\n",
    "t, p"
   ]
  },
  {
   "cell_type": "code",
   "execution_count": 71,
   "id": "9af266c4",
   "metadata": {},
   "outputs": [
    {
     "data": {
      "text/plain": [
       "True"
      ]
     },
     "execution_count": 71,
     "metadata": {},
     "output_type": "execute_result"
    }
   ],
   "source": [
    "#if p is less than alpha, we reject the null\n",
    "\n",
    "p < alpha\n"
   ]
  },
  {
   "cell_type": "markdown",
   "id": "604351ca",
   "metadata": {},
   "source": [
    "#### Example 3\n",
    "\n",
    "Are charges for churned customers significantly less than charges for not churn customers?\n",
    "\n",
    "H_0: mean for churned customers is GREATER THAN or EQUAL TO the mean for non  churned customers\n",
    "H_a: mean for churned customers is LESS THAN the mean for non churned customers\n",
    "\n",
    "1 Tail\n",
    "- less than comparision\n",
    "- compare the alpha to p/2\n"
   ]
  },
  {
   "cell_type": "code",
   "execution_count": 78,
   "id": "39c4dc93",
   "metadata": {},
   "outputs": [
    {
     "data": {
      "text/plain": [
       "(18.407526676414673, 4.296224665773525e-73, 0.05)"
      ]
     },
     "execution_count": 78,
     "metadata": {},
     "output_type": "execute_result"
    }
   ],
   "source": [
    "t, p = stats.ttest_ind(churned, not_churned, equal_var=False)\n",
    "\n",
    "t, p/2, alpha\n",
    "\n",
    "#two conditions to meet\n",
    "    #p/2 < alpha\n",
    "    #t < 0"
   ]
  },
  {
   "cell_type": "code",
   "execution_count": 75,
   "id": "f3b88a00",
   "metadata": {},
   "outputs": [
    {
     "name": "stdout",
     "output_type": "stream",
     "text": [
      "Is t<0? False\n",
      "Is p/2 < alpha? True\n"
     ]
    }
   ],
   "source": [
    "#is t-statistis < 0\n",
    "print('Is t<0?', t<0)\n",
    "\n",
    "#is p/2 < alpha\n",
    "print('Is p/2 < alpha?', p/2<alpha)"
   ]
  },
  {
   "cell_type": "markdown",
   "id": "05482a6a",
   "metadata": {},
   "source": [
    "### ANOVA - Analysis of Variance\n",
    "\n",
    "##### Outcome: Compare means of groys A, B, C\n",
    "\n",
    "- Plot distributions\n",
    "- Establish hypothesis\n",
    "\n",
    "##### Format of Hypothesis\n",
    "\n",
    "$H_0$ Null Hypothesis - $\\mu_{A} = \\mu{B} = \\mu{C}$  \n",
    "$H_a$ Alternative Hypothesis - $\\mu_{A} \\neq \\mu{B} \\neq \\mu{C}$\n",
    "\n",
    "Significance Level\n",
    "\n",
    "- alpha = .05\n",
    "\n",
    "##### Verify Assumptions\n",
    "\n",
    "- Normal Distribution or at least 30 observations\n",
    "- Independent Samples\n",
    "- Equal Variances\n",
    "\n",
    "##### Syntax for test\n",
    "\n",
    "```python\n",
    "scipy.stats.f_oneway\n",
    "```\n",
    "Return: test statistics and a p-value"
   ]
  },
  {
   "cell_type": "code",
   "execution_count": 80,
   "id": "3e556549",
   "metadata": {},
   "outputs": [
    {
     "data": {
      "text/plain": [
       "setosa        50\n",
       "versicolor    50\n",
       "virginica     50\n",
       "Name: species, dtype: int64"
      ]
     },
     "execution_count": 80,
     "metadata": {},
     "output_type": "execute_result"
    }
   ],
   "source": [
    "#loading a dataset that gives thre different groups\n",
    "df = sns.load_dataset('iris')\n",
    "\n",
    "#check the sample size\n",
    "df.species.value_counts()\n",
    "\n",
    "#df.info()\n",
    "\n",
    "#independent - three different species\n",
    "#sample size - sufficient"
   ]
  },
  {
   "cell_type": "code",
   "execution_count": 81,
   "id": "6484ee94",
   "metadata": {},
   "outputs": [],
   "source": [
    "#Group A - setosa\n",
    "#Group B - versicolo\n",
    "#Group C - virginica"
   ]
  },
  {
   "cell_type": "code",
   "execution_count": 83,
   "id": "5579ad0e",
   "metadata": {},
   "outputs": [
    {
     "data": {
      "text/plain": [
       "count    150.000000\n",
       "mean       5.843333\n",
       "std        0.828066\n",
       "min        4.300000\n",
       "25%        5.100000\n",
       "50%        5.800000\n",
       "75%        6.400000\n",
       "max        7.900000\n",
       "Name: sepal_length, dtype: float64"
      ]
     },
     "execution_count": 83,
     "metadata": {},
     "output_type": "execute_result"
    }
   ],
   "source": [
    "#statistical summary of sepal_length\n",
    "\n",
    "df.sepal_length.describe()"
   ]
  },
  {
   "cell_type": "code",
   "execution_count": 90,
   "id": "80487527",
   "metadata": {},
   "outputs": [
    {
     "data": {
      "text/plain": [
       "<AxesSubplot:>"
      ]
     },
     "execution_count": 90,
     "metadata": {},
     "output_type": "execute_result"
    },
    {
     "data": {
      "image/png": "[encoded data removed]",
      "text/plain": [
       "<Figure size 640x480 with 1 Axes>"
      ]
     },
     "metadata": {},
     "output_type": "display_data"
    }
   ],
   "source": [
    "#filter sepal length by species\n",
    "versicolor_sepal_length = df[df.species == 'versicolor'].sepal_length\n",
    "virginica_sepal_length = df[df.species == 'virginica'].sepal_length\n",
    "setosa_sepal_length = df[df.species == 'setosa'].sepal_length\n",
    "\n",
    "versicolor_sepal_length.hist(alpha=.5)\n",
    "setosa_sepal_length.hist(alpha=.5)\n",
    "virginica_sepal_length.hist(alpha=.5)"
   ]
  },
  {
   "cell_type": "code",
   "execution_count": 92,
   "id": "90280f79",
   "metadata": {},
   "outputs": [
    {
     "data": {
      "text/plain": [
       "<AxesSubplot:>"
      ]
     },
     "execution_count": 92,
     "metadata": {},
     "output_type": "execute_result"
    },
    {
     "data": {
      "image/png": "[encoded data removed]",
      "text/plain": [
       "<Figure size 640x480 with 1 Axes>"
      ]
     },
     "metadata": {},
     "output_type": "display_data"
    }
   ],
   "source": [
    "versicolor_sepal_length.hist()"
   ]
  },
  {
   "cell_type": "code",
   "execution_count": 86,
   "id": "6efb30e2",
   "metadata": {},
   "outputs": [
    {
     "data": {
      "text/plain": [
       "<AxesSubplot:>"
      ]
     },
     "execution_count": 86,
     "metadata": {},
     "output_type": "execute_result"
    },
    {
     "data": {
      "image/png": "[encoded data removed]",
      "text/plain": [
       "<Figure size 640x480 with 1 Axes>"
      ]
     },
     "metadata": {},
     "output_type": "display_data"
    }
   ],
   "source": [
    "virginica_sepal_length.hist()"
   ]
  },
  {
   "cell_type": "code",
   "execution_count": 89,
   "id": "e512ed43",
   "metadata": {},
   "outputs": [
    {
     "data": {
      "text/plain": [
       "<AxesSubplot:>"
      ]
     },
     "execution_count": 89,
     "metadata": {},
     "output_type": "execute_result"
    },
    {
     "data": {
      "image/png": "[encoded data removed]",
      "text/plain": [
       "<Figure size 640x480 with 1 Axes>"
      ]
     },
     "metadata": {},
     "output_type": "display_data"
    }
   ],
   "source": [
    "setosa_sepal_length.hist()"
   ]
  },
  {
   "cell_type": "markdown",
   "id": "fd5163f2",
   "metadata": {},
   "source": [
    "#####  State Hypothesis\n",
    "\n",
    "$H_0$: For mean of sepal_length - Versicolor = Virginica = Setosa  \n",
    "$H_a$: For mean of sepal_length - not all equal\n"
   ]
  },
  {
   "cell_type": "code",
   "execution_count": 93,
   "id": "3d6acff6",
   "metadata": {},
   "outputs": [],
   "source": [
    "#significance lvl:\n",
    "\n",
    "alpha = .05\n",
    "\n",
    "#Independence? Yes, they are different samples from within our population\n",
    "#There are more than 30 observations for each group \n",
    "#Equal Variance? "
   ]
  },
  {
   "cell_type": "markdown",
   "id": "8d9ffa79",
   "metadata": {},
   "source": [
    "Test for equal variance : Levene's Test\n",
    "\n",
    "$H_0$: population variances of sepal length across all three species are equal   \n",
    "$H_a$: population variances of sepal length is different among at least two of the species"
   ]
  },
  {
   "cell_type": "code",
   "execution_count": 94,
   "id": "3d391fff",
   "metadata": {},
   "outputs": [
    {
     "data": {
      "text/plain": [
       "LeveneResult(statistic=6.352720020482689, pvalue=0.0022585277836218586)"
      ]
     },
     "execution_count": 94,
     "metadata": {},
     "output_type": "execute_result"
    }
   ],
   "source": [
    "stats.levene(versicolor_sepal_length, virginica_sepal_length, setosa_sepal_length)"
   ]
  },
  {
   "cell_type": "markdown",
   "id": "e5c563b5",
   "metadata": {},
   "source": [
    "The p-value < .05, therefore the variances of at least two of the groups are significantly different.\n",
    "In this case, it would not be recommended to run an ANOVA test because assumptions are violated. \n",
    "However, we will do it here to see what happens \n",
    "In practice, we would resort to a non parametric version of our test, \n",
    "which for an ANOVA test is a Kruskal-Wallis Test.\n"
   ]
  },
  {
   "cell_type": "code",
   "execution_count": 95,
   "id": "cfdec07e",
   "metadata": {},
   "outputs": [
    {
     "data": {
      "text/plain": [
       "F_onewayResult(statistic=119.26450218450472, pvalue=1.6696691907693648e-31)"
      ]
     },
     "execution_count": 95,
     "metadata": {},
     "output_type": "execute_result"
    }
   ],
   "source": [
    "stats.f_oneway(versicolor_sepal_length, virginica_sepal_length, setosa_sepal_length)"
   ]
  },
  {
   "cell_type": "code",
   "execution_count": 96,
   "id": "a42f40a1",
   "metadata": {},
   "outputs": [
    {
     "data": {
      "text/plain": [
       "KruskalResult(statistic=96.93743600064833, pvalue=8.91873433246198e-22)"
      ]
     },
     "execution_count": 96,
     "metadata": {},
     "output_type": "execute_result"
    }
   ],
   "source": [
    "stats.kruskal(versicolor_sepal_length, virginica_sepal_length, setosa_sepal_length)"
   ]
  },
  {
   "cell_type": "markdown",
   "id": "d71a31be",
   "metadata": {},
   "source": [
    "Because variances were not equal, we would go with the result from the Kruskal-Wallis test. We \n",
    "still achieved significance.  \n",
    "Our takeaway here is that there appears to be a significant difference in sepal length across at least two of the groups."
   ]
  },
  {
   "cell_type": "code",
   "execution_count": 98,
   "id": "4b500909",
   "metadata": {},
   "outputs": [
    {
     "data": {
      "text/plain": [
       "5.936"
      ]
     },
     "execution_count": 98,
     "metadata": {},
     "output_type": "execute_result"
    }
   ],
   "source": [
    "versicolor_sepal_length.mean()"
   ]
  },
  {
   "cell_type": "code",
   "execution_count": 99,
   "id": "ecfab9e0",
   "metadata": {},
   "outputs": [
    {
     "data": {
      "text/plain": [
       "6.587999999999998"
      ]
     },
     "execution_count": 99,
     "metadata": {},
     "output_type": "execute_result"
    }
   ],
   "source": [
    "virginica_sepal_length.mean()"
   ]
  },
  {
   "cell_type": "code",
   "execution_count": 100,
   "id": "d6a76097",
   "metadata": {},
   "outputs": [
    {
     "data": {
      "text/plain": [
       "5.005999999999999"
      ]
     },
     "execution_count": 100,
     "metadata": {},
     "output_type": "execute_result"
    }
   ],
   "source": [
    "setosa_sepal_length.mean()"
   ]
  },
  {
   "cell_type": "code",
   "execution_count": 105,
   "id": "c5853d77",
   "metadata": {},
   "outputs": [
    {
     "data": {
      "text/plain": [
       "Ttest_indResult(statistic=-5.629165259719801, pvalue=1.8661443873771226e-07)"
      ]
     },
     "execution_count": 105,
     "metadata": {},
     "output_type": "execute_result"
    }
   ],
   "source": [
    "stats.ttest_ind(versicolor_sepal_length, virginica_sepal_length, equal_var=False)"
   ]
  },
  {
   "cell_type": "code",
   "execution_count": 106,
   "id": "a80a247d",
   "metadata": {},
   "outputs": [
    {
     "data": {
      "text/plain": [
       "Ttest_indResult(statistic=-10.52098626754911, pvalue=3.746742613983842e-17)"
      ]
     },
     "execution_count": 106,
     "metadata": {},
     "output_type": "execute_result"
    }
   ],
   "source": [
    "stats.ttest_ind(setosa_sepal_length, versicolor_sepal_length, equal_var=False)"
   ]
  },
  {
   "cell_type": "code",
   "execution_count": 107,
   "id": "d0d90bd1",
   "metadata": {},
   "outputs": [
    {
     "data": {
      "text/plain": [
       "Ttest_indResult(statistic=-15.386195820079404, pvalue=3.9668672709859296e-25)"
      ]
     },
     "execution_count": 107,
     "metadata": {},
     "output_type": "execute_result"
    }
   ],
   "source": [
    "stats.ttest_ind(setosa_sepal_length, virginica_sepal_length, equal_var=False)"
   ]
  },
  {
   "cell_type": "markdown",
   "id": "98fcc5a4",
   "metadata": {},
   "source": [
    "In comparing each group combination, we can see there is a significant difference in the sepal length of each species."
   ]
  },
  {
   "cell_type": "code",
   "execution_count": 109,
   "id": "4e03bd18",
   "metadata": {},
   "outputs": [
    {
     "data": {
      "text/html": [
       "<div>\n",
       "<style scoped>\n",
       "    .dataframe tbody tr th:only-of-type {\n",
       "        vertical-align: middle;\n",
       "    }\n",
       "\n",
       "    .dataframe tbody tr th {\n",
       "        vertical-align: top;\n",
       "    }\n",
       "\n",
       "    .dataframe thead th {\n",
       "        text-align: right;\n",
       "    }\n",
       "</style>\n",
       "<table border=\"1\" class=\"dataframe\">\n",
       "  <thead>\n",
       "    <tr style=\"text-align: right;\">\n",
       "      <th></th>\n",
       "      <th>mpg</th>\n",
       "      <th>cylinders</th>\n",
       "      <th>displacement</th>\n",
       "      <th>horsepower</th>\n",
       "      <th>weight</th>\n",
       "      <th>acceleration</th>\n",
       "      <th>model_year</th>\n",
       "      <th>origin</th>\n",
       "      <th>name</th>\n",
       "    </tr>\n",
       "  </thead>\n",
       "  <tbody>\n",
       "    <tr>\n",
       "      <th>0</th>\n",
       "      <td>18.0</td>\n",
       "      <td>8</td>\n",
       "      <td>307.0</td>\n",
       "      <td>130.0</td>\n",
       "      <td>3504</td>\n",
       "      <td>12.0</td>\n",
       "      <td>70</td>\n",
       "      <td>usa</td>\n",
       "      <td>chevrolet chevelle malibu</td>\n",
       "    </tr>\n",
       "    <tr>\n",
       "      <th>1</th>\n",
       "      <td>15.0</td>\n",
       "      <td>8</td>\n",
       "      <td>350.0</td>\n",
       "      <td>165.0</td>\n",
       "      <td>3693</td>\n",
       "      <td>11.5</td>\n",
       "      <td>70</td>\n",
       "      <td>usa</td>\n",
       "      <td>buick skylark 320</td>\n",
       "    </tr>\n",
       "    <tr>\n",
       "      <th>2</th>\n",
       "      <td>18.0</td>\n",
       "      <td>8</td>\n",
       "      <td>318.0</td>\n",
       "      <td>150.0</td>\n",
       "      <td>3436</td>\n",
       "      <td>11.0</td>\n",
       "      <td>70</td>\n",
       "      <td>usa</td>\n",
       "      <td>plymouth satellite</td>\n",
       "    </tr>\n",
       "    <tr>\n",
       "      <th>3</th>\n",
       "      <td>16.0</td>\n",
       "      <td>8</td>\n",
       "      <td>304.0</td>\n",
       "      <td>150.0</td>\n",
       "      <td>3433</td>\n",
       "      <td>12.0</td>\n",
       "      <td>70</td>\n",
       "      <td>usa</td>\n",
       "      <td>amc rebel sst</td>\n",
       "    </tr>\n",
       "    <tr>\n",
       "      <th>4</th>\n",
       "      <td>17.0</td>\n",
       "      <td>8</td>\n",
       "      <td>302.0</td>\n",
       "      <td>140.0</td>\n",
       "      <td>3449</td>\n",
       "      <td>10.5</td>\n",
       "      <td>70</td>\n",
       "      <td>usa</td>\n",
       "      <td>ford torino</td>\n",
       "    </tr>\n",
       "  </tbody>\n",
       "</table>\n",
       "</div>"
      ],
      "text/plain": [
       "    mpg  cylinders  displacement  horsepower  weight  acceleration  \\\n",
       "0  18.0          8         307.0       130.0    3504          12.0   \n",
       "1  15.0          8         350.0       165.0    3693          11.5   \n",
       "2  18.0          8         318.0       150.0    3436          11.0   \n",
       "3  16.0          8         304.0       150.0    3433          12.0   \n",
       "4  17.0          8         302.0       140.0    3449          10.5   \n",
       "\n",
       "   model_year origin                       name  \n",
       "0          70    usa  chevrolet chevelle malibu  \n",
       "1          70    usa          buick skylark 320  \n",
       "2          70    usa         plymouth satellite  \n",
       "3          70    usa              amc rebel sst  \n",
       "4          70    usa                ford torino  "
      ]
     },
     "execution_count": 109,
     "metadata": {},
     "output_type": "execute_result"
    }
   ],
   "source": [
    "mpg = sns.load_dataset('mpg')\n",
    "\n",
    "mpg.head()"
   ]
  },
  {
   "cell_type": "code",
   "execution_count": 112,
   "id": "15e30f13",
   "metadata": {},
   "outputs": [
    {
     "data": {
      "text/plain": [
       "mpg             0\n",
       "cylinders       0\n",
       "displacement    0\n",
       "horsepower      0\n",
       "weight          0\n",
       "acceleration    0\n",
       "model_year      0\n",
       "origin          0\n",
       "name            0\n",
       "dtype: int64"
      ]
     },
     "execution_count": 112,
     "metadata": {},
     "output_type": "execute_result"
    }
   ],
   "source": [
    "mpg.isna().sum()\n",
    "#drop the nulls in horsepower\n",
    "mpg = mpg[~mpg.horsepower.isna()]\n",
    "mpg.isna().sum()"
   ]
  },
  {
   "cell_type": "code",
   "execution_count": 114,
   "id": "14894da7",
   "metadata": {},
   "outputs": [
    {
     "data": {
      "text/plain": [
       "usa       245\n",
       "japan      79\n",
       "europe     68\n",
       "Name: origin, dtype: int64"
      ]
     },
     "execution_count": 114,
     "metadata": {},
     "output_type": "execute_result"
    }
   ],
   "source": [
    "mpg.origin.value_counts()"
   ]
  },
  {
   "cell_type": "markdown",
   "id": "d9154444",
   "metadata": {},
   "source": [
    "Is the horsepower of vehicles different across the distinct origins of the vehicles?\n",
    "\n",
    "$H_{0}$: mean_horsespower_usa == mean_horsepower_japan == mean_horsepower_europe.\n",
    "$H_{a}$: mean horsepowers from at least countries are significantly different.\n",
    "\n",
    "Assumptions\n",
    "- At least 30 observations for each category : met (see value accounts above).\n",
    "- Equal population variance across all three groups.\n",
    "- Groups are independent of each other.\n",
    "\n"
   ]
  },
  {
   "cell_type": "code",
   "execution_count": 118,
   "id": "fe814747",
   "metadata": {},
   "outputs": [
    {
     "data": {
      "text/plain": [
       "<AxesSubplot:>"
      ]
     },
     "execution_count": 118,
     "metadata": {},
     "output_type": "execute_result"
    },
    {
     "data": {
      "image/png": "[encoded data removed]",
      "text/plain": [
       "<Figure size 640x480 with 1 Axes>"
      ]
     },
     "metadata": {},
     "output_type": "display_data"
    }
   ],
   "source": [
    "#lets look at the values of each of these and the histograms\n",
    "\n",
    "mpg[mpg.origin == 'usa'].horsepower.hist()\n",
    "mpg[mpg.origin == 'japan'].horsepower.hist()\n",
    "mpg[mpg.origin == 'europe'].horsepower.hist()"
   ]
  },
  {
   "cell_type": "code",
   "execution_count": 119,
   "id": "849d5a21",
   "metadata": {},
   "outputs": [],
   "source": [
    "#creating a series of horsepower for each country\n",
    "usa = mpg[mpg.origin == 'usa'].horsepower\n",
    "japan = mpg[mpg.origin == 'japan'].horsepower\n",
    "europe = mpg[mpg.origin == 'europe'].horsepower"
   ]
  },
  {
   "cell_type": "code",
   "execution_count": 120,
   "id": "a2dd2655",
   "metadata": {},
   "outputs": [
    {
     "data": {
      "text/plain": [
       "LeveneResult(statistic=26.526632103545772, pvalue=1.5863075873913356e-11)"
      ]
     },
     "execution_count": 120,
     "metadata": {},
     "output_type": "execute_result"
    }
   ],
   "source": [
    "#validate the variance assumption\n",
    "\n",
    "stats.levene(usa, japan, europe)"
   ]
  },
  {
   "cell_type": "markdown",
   "id": "322796c6",
   "metadata": {},
   "source": [
    "With a low p-value, we can assume the variances of countries horsepower is significantly different across at least two of the countries  \n",
    "With this, we know we should not use the ANOVA test and should instead use the Kruskal-Wallis test"
   ]
  },
  {
   "cell_type": "code",
   "execution_count": 122,
   "id": "25dfe9c6",
   "metadata": {},
   "outputs": [],
   "source": [
    "test_statistic, p_value = stats.kruskal(usa, japan, europe)"
   ]
  },
  {
   "cell_type": "code",
   "execution_count": 123,
   "id": "766e6f72",
   "metadata": {},
   "outputs": [
    {
     "data": {
      "text/plain": [
       "1.1759521262123952e-23"
      ]
     },
     "execution_count": 123,
     "metadata": {},
     "output_type": "execute_result"
    }
   ],
   "source": [
    "p_value"
   ]
  },
  {
   "cell_type": "markdown",
   "id": "3e835650",
   "metadata": {},
   "source": [
    "With a p-value < 0.05 (our alpha), we can say there exists significant difference between the horsepower of vehicles in at least two of the countries. But which two?\n",
    "\n",
    "Compare two groups: usa and japan\n",
    "\n",
    "$H_0$: hp_usa == hp_japan  \n",
    "$H_a$: hp_usa != hp_japan"
   ]
  },
  {
   "cell_type": "code",
   "execution_count": 126,
   "id": "d5070635",
   "metadata": {},
   "outputs": [
    {
     "name": "stdout",
     "output_type": "stream",
     "text": [
      "There is a significant difference between the horsepower of vehicles from the USA vs Japan\n"
     ]
    }
   ],
   "source": [
    "#compare two groups to see if there is significance\n",
    "t, p = stats.ttest_ind(usa, japan, equal_var=False)\n",
    "\n",
    "if p < .05:\n",
    "    print('There is a significant difference between the horsepower of vehicles from the USA vs Japan')\n",
    "else:\n",
    "    print('We failed to find a significant difference')"
   ]
  },
  {
   "cell_type": "code",
   "execution_count": 130,
   "id": "6e4c8c67",
   "metadata": {},
   "outputs": [
    {
     "name": "stdout",
     "output_type": "stream",
     "text": [
      "There is a significant difference between the horsepower of vehicles from the USA vs Europe. (p-value= 2.1065705369888018e-22)\n"
     ]
    }
   ],
   "source": [
    "#compare two groups to see if there is significance\n",
    "t, p = stats.ttest_ind(usa, europe, equal_var=False)\n",
    "\n",
    "if p < .05:\n",
    "    print(f'There is a significant difference between the horsepower of vehicles from the USA vs Europe. (p-value= {p})')\n",
    "else:\n",
    "    print(f'We failed to find a significant difference (p-value: {p})')"
   ]
  },
  {
   "cell_type": "code",
   "execution_count": 131,
   "id": "d771bdd3",
   "metadata": {},
   "outputs": [
    {
     "name": "stdout",
     "output_type": "stream",
     "text": [
      "We failed to find a significant difference (p-value: 0.8193616065509621)\n"
     ]
    }
   ],
   "source": [
    "#compare two groups to see if there is significance\n",
    "t, p = stats.ttest_ind(europe, japan, equal_var=False)\n",
    "\n",
    "if p < .05:\n",
    "    print(f'There is a significant difference between the horsepower of vehicles from Europe and Japan. (p-value= {p})')\n",
    "else:\n",
    "    print(f'We failed to find a significant difference (p-value: {p})')"
   ]
  },
  {
   "cell_type": "code",
   "execution_count": null,
   "id": "d8b98301",
   "metadata": {},
   "outputs": [],
   "source": []
  }
 ],
 "metadata": {
  "kernelspec": {
   "display_name": "Python 3 (ipykernel)",
   "language": "python",
   "name": "python3"
  },
  "language_info": {
   "codemirror_mode": {
    "name": "ipython",
    "version": 3
   },
   "file_extension": ".py",
   "mimetype": "text/x-python",
   "name": "python",
   "nbconvert_exporter": "python",
   "pygments_lexer": "ipython3",
   "version": "3.9.13"
  }
 },
 "nbformat": 4,
 "nbformat_minor": 5
}

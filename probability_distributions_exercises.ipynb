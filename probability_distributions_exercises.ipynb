{
 "cells": [
  {
   "cell_type": "markdown",
   "id": "771d7370",
   "metadata": {},
   "source": [
    "## Probability Distributions Exercises"
   ]
  },
  {
   "cell_type": "code",
   "execution_count": 2,
   "id": "7b2c1ee6",
   "metadata": {},
   "outputs": [],
   "source": [
    "import numpy as np\n",
    "import pandas as pd\n",
    "from scipy import stats\n",
    "import matplotlib.pyplot as plt\n",
    "%matplotlib inline\n",
    "import env\n",
    "import os"
   ]
  },
  {
   "cell_type": "markdown",
   "id": "63b24ef3",
   "metadata": {},
   "source": [
    "A bank found that the average number of cars waiting during the noon hour at a drive-up window follows a Poisson distribution with a mean of 2 cars. Make a chart of this distribution and answer these questions concerning the probability of cars waiting at the drive-up window.\n",
    "\n",
    "What is the probability that no cars drive up in the noon hour?"
   ]
  },
  {
   "cell_type": "code",
   "execution_count": 24,
   "id": "efe708dc",
   "metadata": {},
   "outputs": [
    {
     "data": {
      "text/plain": [
       "(array([1., 0.]), array([0, 1, 2]), <BarContainer object of 2 artists>)"
      ]
     },
     "execution_count": 24,
     "metadata": {},
     "output_type": "execute_result"
    },
    {
     "data": {
      "image/png": "[encoded data removed]",
      "text/plain": [
       "<Figure size 640x480 with 1 Axes>"
      ]
     },
     "metadata": {},
     "output_type": "display_data"
    }
   ],
   "source": [
    "mean = 2\n",
    "x = stats.poisson(2).pmf(mean)\n",
    "\n",
    "plt.hist(x, bins=range(0, 3), align='left', width=1, edgecolor='black')\n"
   ]
  },
  {
   "cell_type": "code",
   "execution_count": 61,
   "id": "9c01c152",
   "metadata": {},
   "outputs": [
    {
     "data": {
      "text/plain": [
       "0.1353352832366127"
      ]
     },
     "execution_count": 61,
     "metadata": {},
     "output_type": "execute_result"
    }
   ],
   "source": [
    "stats.poisson(2).pmf(0)"
   ]
  },
  {
   "cell_type": "markdown",
   "id": "e7babf33",
   "metadata": {},
   "source": [
    "What is the probability that 3 or more cars come through the drive through?\n"
   ]
  },
  {
   "cell_type": "code",
   "execution_count": 62,
   "id": "cedb6960",
   "metadata": {},
   "outputs": [
    {
     "data": {
      "text/plain": [
       "0.18044704431548356"
      ]
     },
     "execution_count": 62,
     "metadata": {},
     "output_type": "execute_result"
    }
   ],
   "source": [
    "stats.poisson(2).pmf(3)"
   ]
  },
  {
   "cell_type": "markdown",
   "id": "4d98f4ad",
   "metadata": {},
   "source": [
    "How likely is it that the drive through gets at least 1 car?\n"
   ]
  },
  {
   "cell_type": "code",
   "execution_count": 63,
   "id": "66b3651e",
   "metadata": {},
   "outputs": [
    {
     "data": {
      "text/plain": [
       "0.8646647167633873"
      ]
     },
     "execution_count": 63,
     "metadata": {},
     "output_type": "execute_result"
    }
   ],
   "source": [
    "stats.poisson(2).sf(0)"
   ]
  },
  {
   "cell_type": "markdown",
   "id": "1b6ec313",
   "metadata": {},
   "source": [
    "Grades of State University graduates are normally distributed with a mean of 3.0 and a standard deviation of .3. Calculate the following:\n",
    "\n",
    "What grade point average is required to be in the top 5% of the graduating class?\n",
    "\n"
   ]
  },
  {
   "cell_type": "code",
   "execution_count": 87,
   "id": "9637294d",
   "metadata": {},
   "outputs": [],
   "source": [
    "nm = 3.0\n",
    "sd = .3\n",
    "\n",
    "gpa = stats.norm(nm, sd)"
   ]
  },
  {
   "cell_type": "code",
   "execution_count": 91,
   "id": "4a46f40e",
   "metadata": {},
   "outputs": [
    {
     "data": {
      "text/plain": [
       "3.4934560880854417"
      ]
     },
     "execution_count": 91,
     "metadata": {},
     "output_type": "execute_result"
    }
   ],
   "source": [
    "gpa.isf(.05)"
   ]
  },
  {
   "cell_type": "markdown",
   "id": "6e90510b",
   "metadata": {},
   "source": [
    "What GPA constitutes the bottom 15% of the class?\n"
   ]
  },
  {
   "cell_type": "code",
   "execution_count": 90,
   "id": "25c8f76e",
   "metadata": {},
   "outputs": [
    {
     "data": {
      "text/plain": [
       "2.689069983151863"
      ]
     },
     "execution_count": 90,
     "metadata": {},
     "output_type": "execute_result"
    }
   ],
   "source": [
    "gpa.ppf(.15)"
   ]
  },
  {
   "cell_type": "markdown",
   "id": "8afba0e8",
   "metadata": {},
   "source": [
    "An eccentric alumnus left scholarship money for students in the third decile from the bottom of their class. Determine the range of the third decile. Would a student with a 2.8 grade point average qualify for this scholarship?\n"
   ]
  },
  {
   "cell_type": "code",
   "execution_count": 94,
   "id": "49277b95",
   "metadata": {},
   "outputs": [
    {
     "data": {
      "text/plain": [
       "1.0648266850745072"
      ]
     },
     "execution_count": 94,
     "metadata": {},
     "output_type": "execute_result"
    }
   ],
   "source": [
    "gpa.pdf(2.8)"
   ]
  },
  {
   "cell_type": "markdown",
   "id": "713a2a10",
   "metadata": {},
   "source": [
    "If I have a GPA of 3.5, what percentile am I in?\n"
   ]
  },
  {
   "cell_type": "code",
   "execution_count": 96,
   "id": "99b44943",
   "metadata": {},
   "outputs": [
    {
     "data": {
      "text/plain": [
       "0.0477903522728147"
      ]
     },
     "execution_count": 96,
     "metadata": {},
     "output_type": "execute_result"
    }
   ],
   "source": [
    "gpa.sf(3.5)"
   ]
  },
  {
   "cell_type": "code",
   "execution_count": 98,
   "id": "79d7d516",
   "metadata": {},
   "outputs": [
    {
     "data": {
      "text/plain": [
       "0.9522096477271853"
      ]
     },
     "execution_count": 98,
     "metadata": {},
     "output_type": "execute_result"
    }
   ],
   "source": [
    "gpa.cdf(3.5)"
   ]
  },
  {
   "cell_type": "markdown",
   "id": "efbe834f",
   "metadata": {},
   "source": [
    "A marketing website has an average click-through rate of 2%. One day they observe 4326 visitors and 97 click-throughs. How likely is it that this many people or more click through?\n",
    "\n"
   ]
  },
  {
   "cell_type": "code",
   "execution_count": 109,
   "id": "fcd423a3",
   "metadata": {},
   "outputs": [
    {
     "data": {
      "text/plain": [
       "0.13975823631416448"
      ]
     },
     "execution_count": 109,
     "metadata": {},
     "output_type": "execute_result"
    }
   ],
   "source": [
    "stats.binom(4326, .02).sf(96)"
   ]
  },
  {
   "cell_type": "markdown",
   "id": "f8f3e47b",
   "metadata": {},
   "source": [
    "You are working on some statistics homework consisting of 100 questions where all of the answers are a probability rounded to the hundreths place. Looking to save time, you put down random probabilities as the answer to each question.\n",
    "\n",
    "What is the probability that at least one of your first 60 answers is correct?\n"
   ]
  },
  {
   "cell_type": "code",
   "execution_count": 110,
   "id": "3aa37e7e",
   "metadata": {},
   "outputs": [
    {
     "data": {
      "text/plain": [
       "0.45284335760923855"
      ]
     },
     "execution_count": 110,
     "metadata": {},
     "output_type": "execute_result"
    }
   ],
   "source": [
    "stats.binom(60, .01).sf(0)"
   ]
  },
  {
   "cell_type": "markdown",
   "id": "0183eb15",
   "metadata": {},
   "source": [
    "The codeup staff tends to get upset when the student break area is not cleaned up. Suppose that there's a 3% chance that any one student cleans the break area when they visit it, and, on any given day, about 90% of the 3 active cohorts of 22 students visit the break area. How likely is it that the break area gets cleaned up each day? How likely is it that it goes two days without getting cleaned up? All week?\n",
    "\n"
   ]
  },
  {
   "cell_type": "code",
   "execution_count": 24,
   "id": "90595a27",
   "metadata": {},
   "outputs": [
    {
     "data": {
      "text/plain": [
       "0.8391933309784232"
      ]
     },
     "execution_count": 24,
     "metadata": {},
     "output_type": "execute_result"
    }
   ],
   "source": [
    "# 3% chance someone cleans up out of 90% of the 66 students clean each day\n",
    "# chance someone cleans each day\n",
    "# chance it goes two days without being cleaned, then 5 days\n",
    "# roughly 60 students visit each day\n",
    "\n",
    "stats.binom(60, .03).sf(0)\n",
    "#chance it gets cleaned each day"
   ]
  },
  {
   "cell_type": "code",
   "execution_count": 25,
   "id": "e5adae61",
   "metadata": {},
   "outputs": [
    {
     "data": {
      "text/plain": [
       "0.02585878480181488"
      ]
     },
     "execution_count": 25,
     "metadata": {},
     "output_type": "execute_result"
    }
   ],
   "source": [
    "stats.binom(120, .03).pmf(0)"
   ]
  },
  {
   "cell_type": "code",
   "execution_count": 26,
   "id": "06ea5ddc",
   "metadata": {},
   "outputs": [
    {
     "data": {
      "text/plain": [
       "0.00010752768104907586"
      ]
     },
     "execution_count": 26,
     "metadata": {},
     "output_type": "execute_result"
    }
   ],
   "source": [
    "stats.binom(300, .03).pmf(0)"
   ]
  },
  {
   "cell_type": "markdown",
   "id": "8a3c597d",
   "metadata": {},
   "source": [
    "You want to get lunch at La Panaderia, but notice that the line is usually very long at lunchtime. After several weeks of careful observation, you notice that the average number of people in line when your lunch break starts is normally distributed with a mean of 15 and standard deviation of 3. If it takes 2 minutes for each person to order, and 10 minutes from ordering to getting your food, what is the likelihood that you have at least 15 minutes left to eat your food before you have to go back to class? Assume you have one hour for lunch, and ignore travel time to and from La Panaderia.\n",
    "\n"
   ]
  },
  {
   "cell_type": "code",
   "execution_count": 78,
   "id": "7311d556",
   "metadata": {},
   "outputs": [
    {
     "data": {
      "text/plain": [
       "array([16.64866579,  9.74432767, 18.84083312, ..., 11.29211387,\n",
       "       12.36781548, 12.35534022])"
      ]
     },
     "execution_count": 78,
     "metadata": {},
     "output_type": "execute_result"
    }
   ],
   "source": [
    "#mean of people in line on a given day is 15 with an std of 3\n",
    "#2 minutes per order and 10 minutes to recieve your food after ordering\n",
    "#how likely is it to have at least 15 minutes left after getting your food\n",
    "#assume no travel time and 1 hour lunch\n",
    "\n",
    "mn = 15\n",
    "sd = 3\n",
    "\n",
    "line = stats.norm(mn, sd)\n",
    "line = line.rvs(10000)\n",
    "line"
   ]
  },
  {
   "cell_type": "code",
   "execution_count": 79,
   "id": "7a69947f",
   "metadata": {},
   "outputs": [],
   "source": [
    "#convert number of people in line to how many minutes it will take to order and get your food\n",
    "line = line * 2 + 27"
   ]
  },
  {
   "cell_type": "code",
   "execution_count": 80,
   "id": "33171119",
   "metadata": {},
   "outputs": [
    {
     "data": {
      "text/plain": [
       "0.6928"
      ]
     },
     "execution_count": 80,
     "metadata": {},
     "output_type": "execute_result"
    }
   ],
   "source": [
    "within_limit = line < 60\n",
    "sum(within_limit) / len(within_limit)"
   ]
  },
  {
   "cell_type": "markdown",
   "id": "3b511ee4",
   "metadata": {},
   "source": [
    "Connect to the employees database and find the average salary of current employees, along with the standard deviation. For the following questions, calculate the answer based on modeling the employees salaries with a normal distribution defined by the calculated mean and standard deviation then compare this answer to the actual values present in the salaries dataset.\n",
    "\n",
    "Hint If you're looking at this exercise and wondering \"How do I get pandas to talk the database, again?\", remember that you'll need 3 things: your .gitignore, your env.py, and to use pd.read_sql. Copy over your .gitignore and env.py from your data science libraries exercises folder, and connect to the employees database\n"
   ]
  },
  {
   "cell_type": "code",
   "execution_count": 82,
   "id": "3e45e936",
   "metadata": {},
   "outputs": [],
   "source": [
    "def get_db_url(db, env_file=os.path.exists('env.py')):\n",
    "    '''\n",
    "    return a formatted string containing username, password, host, \n",
    "    and database for connecting to the mySql server and indicated\n",
    "    database.\n",
    "    env_file checks to see if env.py exists in cwd\n",
    "    '''\n",
    "    \n",
    "    if env_file:\n",
    "        \n",
    "        username, password, host = (env.username, env.password, env.host)\n",
    "        \n",
    "        return f'mysql+pymysql://{username}:{password}@{host}/{db}'\n",
    "        \n",
    "    else: \n",
    "        return \"Hellooooo, you need a username and password, genius.\"\n",
    "\n",
    "#employees here will be replaced with the database name\n",
    "url = get_db_url('employees')\n",
    "\n",
    "#this is how we frame our query\n",
    "query = 'SELECT salary FROM salaries WHERE to_date > CURDATE()'\n",
    "\n",
    "#the final syntax for running our sql query and assigning it to a variable\n",
    "emp_sals = pd.read_sql(query, url)"
   ]
  },
  {
   "cell_type": "code",
   "execution_count": 84,
   "id": "f22e9d81",
   "metadata": {},
   "outputs": [
    {
     "data": {
      "text/html": [
       "<div>\n",
       "<style scoped>\n",
       "    .dataframe tbody tr th:only-of-type {\n",
       "        vertical-align: middle;\n",
       "    }\n",
       "\n",
       "    .dataframe tbody tr th {\n",
       "        vertical-align: top;\n",
       "    }\n",
       "\n",
       "    .dataframe thead th {\n",
       "        text-align: right;\n",
       "    }\n",
       "</style>\n",
       "<table border=\"1\" class=\"dataframe\">\n",
       "  <thead>\n",
       "    <tr style=\"text-align: right;\">\n",
       "      <th></th>\n",
       "      <th>salary</th>\n",
       "    </tr>\n",
       "  </thead>\n",
       "  <tbody>\n",
       "    <tr>\n",
       "      <th>0</th>\n",
       "      <td>88958</td>\n",
       "    </tr>\n",
       "    <tr>\n",
       "      <th>1</th>\n",
       "      <td>72527</td>\n",
       "    </tr>\n",
       "    <tr>\n",
       "      <th>2</th>\n",
       "      <td>43311</td>\n",
       "    </tr>\n",
       "    <tr>\n",
       "      <th>3</th>\n",
       "      <td>74057</td>\n",
       "    </tr>\n",
       "    <tr>\n",
       "      <th>4</th>\n",
       "      <td>94692</td>\n",
       "    </tr>\n",
       "  </tbody>\n",
       "</table>\n",
       "</div>"
      ],
      "text/plain": [
       "   salary\n",
       "0   88958\n",
       "1   72527\n",
       "2   43311\n",
       "3   74057\n",
       "4   94692"
      ]
     },
     "execution_count": 84,
     "metadata": {},
     "output_type": "execute_result"
    }
   ],
   "source": [
    "emp_sals.head()"
   ]
  },
  {
   "cell_type": "markdown",
   "id": "8842079a",
   "metadata": {},
   "source": [
    "What percent of employees earn less than 60,000?"
   ]
  },
  {
   "cell_type": "code",
   "execution_count": null,
   "id": "6223e389",
   "metadata": {},
   "outputs": [],
   "source": [
    "#emp salaries mean = 72012 rounded to nearest whole number\n",
    "#emp salaries std = 17310 rounded to nearest whole number"
   ]
  },
  {
   "cell_type": "code",
   "execution_count": 133,
   "id": "16d33726",
   "metadata": {},
   "outputs": [
    {
     "data": {
      "text/plain": [
       "0.2438617554963023"
      ]
     },
     "execution_count": 133,
     "metadata": {},
     "output_type": "execute_result"
    }
   ],
   "source": [
    "mn = 72012\n",
    "sd = 17310\n",
    "\n",
    "salaries = stats.norm(mn, sd)\n",
    "\n",
    "salaries.cdf(60000)"
   ]
  },
  {
   "cell_type": "markdown",
   "id": "a33cd898",
   "metadata": {},
   "source": [
    "What percent of employees earn more than 95,000?\n"
   ]
  },
  {
   "cell_type": "code",
   "execution_count": 99,
   "id": "b43f75d2",
   "metadata": {},
   "outputs": [
    {
     "data": {
      "text/plain": [
       "0.09208599994106093"
      ]
     },
     "execution_count": 99,
     "metadata": {},
     "output_type": "execute_result"
    }
   ],
   "source": [
    "salaries.sf(95000)"
   ]
  },
  {
   "cell_type": "markdown",
   "id": "abd054ac",
   "metadata": {},
   "source": [
    "What percent of employees earn between 65,000 and 80,000?\n"
   ]
  },
  {
   "cell_type": "code",
   "execution_count": 108,
   "id": "32a21c9b",
   "metadata": {},
   "outputs": [
    {
     "data": {
      "text/plain": [
       "0.3350396444362912"
      ]
     },
     "execution_count": 108,
     "metadata": {},
     "output_type": "execute_result"
    }
   ],
   "source": [
    "1 - (salaries.cdf(65000) + salaries.sf(79999))"
   ]
  },
  {
   "cell_type": "code",
   "execution_count": 109,
   "id": "589c8f75",
   "metadata": {},
   "outputs": [
    {
     "data": {
      "text/plain": [
       "0.335060363819384"
      ]
     },
     "execution_count": 109,
     "metadata": {},
     "output_type": "execute_result"
    }
   ],
   "source": [
    "salaries.cdf(80000) - salaries.cdf(65000)"
   ]
  },
  {
   "cell_type": "markdown",
   "id": "d680e099",
   "metadata": {},
   "source": [
    "What do the top 5% of employees make?\n"
   ]
  },
  {
   "cell_type": "code",
   "execution_count": 101,
   "id": "b015b670",
   "metadata": {},
   "outputs": [
    {
     "data": {
      "text/plain": [
       "100484.41628253"
      ]
     },
     "execution_count": 101,
     "metadata": {},
     "output_type": "execute_result"
    }
   ],
   "source": [
    "salaries.isf(.05)"
   ]
  },
  {
   "cell_type": "markdown",
   "id": "3ac898ca",
   "metadata": {},
   "source": [
    "# Class examples"
   ]
  },
  {
   "cell_type": "code",
   "execution_count": 113,
   "id": "aba7c8ea",
   "metadata": {},
   "outputs": [
    {
     "data": {
      "image/png": "[encoded data removed]",
      "text/plain": [
       "<Figure size 640x480 with 1 Axes>"
      ]
     },
     "metadata": {},
     "output_type": "display_data"
    }
   ],
   "source": [
    "#number 1\n",
    "\n",
    "# λ = \\lambda + tab\n",
    "λ = 2\n",
    "\n",
    "#create np array for nums 0-11\n",
    "x = np.arange(0,11)\n",
    "\n",
    "#the probability at each of the 12 points\n",
    "y = stats.poisson(λ).pmf(x)\n",
    "\n",
    "#code to create the graph and label\n",
    "plt.bar(x, y)\n",
    "plt.title('Poisson distribution with $λ = 2$')\n",
    "plt.xlabel('Number of cars during noon hour')\n",
    "plt.ylabel('P(X)');"
   ]
  },
  {
   "cell_type": "code",
   "execution_count": 115,
   "id": "e45ab1e7",
   "metadata": {},
   "outputs": [
    {
     "data": {
      "text/plain": [
       "0.14"
      ]
     },
     "execution_count": 115,
     "metadata": {},
     "output_type": "execute_result"
    }
   ],
   "source": [
    "round(stats.poisson(λ).pmf(0), 2)"
   ]
  },
  {
   "cell_type": "code",
   "execution_count": 116,
   "id": "4ee65d7b",
   "metadata": {},
   "outputs": [
    {
     "data": {
      "text/plain": [
       "0.32"
      ]
     },
     "execution_count": 116,
     "metadata": {},
     "output_type": "execute_result"
    }
   ],
   "source": [
    "round(stats.poisson(λ).sf(2), 2)"
   ]
  },
  {
   "cell_type": "code",
   "execution_count": 117,
   "id": "4a912861",
   "metadata": {},
   "outputs": [
    {
     "data": {
      "text/plain": [
       "0.86"
      ]
     },
     "execution_count": 117,
     "metadata": {},
     "output_type": "execute_result"
    }
   ],
   "source": [
    "round(stats.poisson(λ).sf(0), 2)"
   ]
  },
  {
   "cell_type": "code",
   "execution_count": 119,
   "id": "50648625",
   "metadata": {},
   "outputs": [],
   "source": [
    "#number 2\n",
    "\n",
    "mn = 3\n",
    "sd = .3\n",
    "grade = stats.norm(mn, sd)"
   ]
  },
  {
   "cell_type": "code",
   "execution_count": 124,
   "id": "3358387f",
   "metadata": {},
   "outputs": [
    {
     "data": {
      "text/plain": [
       "3.4934560880854417"
      ]
     },
     "execution_count": 124,
     "metadata": {},
     "output_type": "execute_result"
    }
   ],
   "source": [
    "#several different ways to do this, don't have to make a variable\n",
    "stats.norm(mn, sd).isf(.05)\n",
    "stats.norm(3, .3).isf(.05)\n",
    "grade.isf(.05)\n"
   ]
  },
  {
   "cell_type": "code",
   "execution_count": 125,
   "id": "ca6dcff7",
   "metadata": {},
   "outputs": [
    {
     "data": {
      "text/plain": [
       "3.4934560880854417"
      ]
     },
     "execution_count": 125,
     "metadata": {},
     "output_type": "execute_result"
    }
   ],
   "source": [
    "#returns the same result doing this the opposite way\n",
    "grade.ppf(.95)"
   ]
  },
  {
   "cell_type": "code",
   "execution_count": 127,
   "id": "4972f864",
   "metadata": {},
   "outputs": [
    {
     "data": {
      "text/plain": [
       "2.689069983151863"
      ]
     },
     "execution_count": 127,
     "metadata": {},
     "output_type": "execute_result"
    }
   ],
   "source": [
    "grade.ppf(.15)"
   ]
  },
  {
   "cell_type": "code",
   "execution_count": 128,
   "id": "9801d643",
   "metadata": {},
   "outputs": [
    {
     "data": {
      "text/plain": [
       "2.689069983151863"
      ]
     },
     "execution_count": 128,
     "metadata": {},
     "output_type": "execute_result"
    }
   ],
   "source": [
    "grade.isf(.85)"
   ]
  },
  {
   "cell_type": "code",
   "execution_count": 130,
   "id": "27977601",
   "metadata": {},
   "outputs": [
    {
     "data": {
      "text/plain": [
       "array([2.74751363, 2.84267985])"
      ]
     },
     "execution_count": 130,
     "metadata": {},
     "output_type": "execute_result"
    }
   ],
   "source": [
    "#can pass a list of values to return a range\n",
    "range_of_gpas = grade.ppf([.20, .30])\n",
    "range_of_gpas"
   ]
  },
  {
   "cell_type": "code",
   "execution_count": 136,
   "id": "d063a635",
   "metadata": {},
   "outputs": [
    {
     "data": {
      "text/plain": [
       "True"
      ]
     },
     "execution_count": 136,
     "metadata": {},
     "output_type": "execute_result"
    }
   ],
   "source": [
    "#way to basically check the above without having to manually look\n",
    "(range_of_gpas[0] < 2.8) and (range_of_gpas[1] > 2.8)"
   ]
  },
  {
   "cell_type": "code",
   "execution_count": 137,
   "id": "a83981e3",
   "metadata": {},
   "outputs": [
    {
     "data": {
      "text/plain": [
       "0.2524925375469227"
      ]
     },
     "execution_count": 137,
     "metadata": {},
     "output_type": "execute_result"
    }
   ],
   "source": [
    "#more concise way to determine if that gpa falls in the third decile (20-30)th percentiles\n",
    "grade.cdf(2.8)"
   ]
  },
  {
   "cell_type": "code",
   "execution_count": 141,
   "id": "7b2cfca0",
   "metadata": {},
   "outputs": [
    {
     "data": {
      "text/plain": [
       "0.95"
      ]
     },
     "execution_count": 141,
     "metadata": {},
     "output_type": "execute_result"
    }
   ],
   "source": [
    "round(grade.cdf(3.5), 2)"
   ]
  },
  {
   "cell_type": "code",
   "execution_count": 142,
   "id": "5d19101a",
   "metadata": {},
   "outputs": [
    {
     "data": {
      "text/plain": [
       "0.05"
      ]
     },
     "execution_count": 142,
     "metadata": {},
     "output_type": "execute_result"
    }
   ],
   "source": [
    "round(grade.sf(3.5), 2)"
   ]
  },
  {
   "cell_type": "code",
   "execution_count": 143,
   "id": "eec3221c",
   "metadata": {},
   "outputs": [],
   "source": [
    "n_trials = 4326\n",
    "p = .02\n",
    "\n",
    "click_throughs = stats.binom(n_trials, p)"
   ]
  },
  {
   "cell_type": "code",
   "execution_count": 144,
   "id": "399b0e2e",
   "metadata": {},
   "outputs": [
    {
     "data": {
      "text/plain": [
       "0.14"
      ]
     },
     "execution_count": 144,
     "metadata": {},
     "output_type": "execute_result"
    }
   ],
   "source": [
    "round(click_throughs.sf(96), 2)"
   ]
  },
  {
   "cell_type": "code",
   "execution_count": 145,
   "id": "0330b3b9",
   "metadata": {},
   "outputs": [
    {
     "data": {
      "text/plain": [
       "86.52"
      ]
     },
     "execution_count": 145,
     "metadata": {},
     "output_type": "execute_result"
    }
   ],
   "source": [
    "λ = n_trials * p\n",
    "λ"
   ]
  },
  {
   "cell_type": "code",
   "execution_count": 147,
   "id": "f57a87cc",
   "metadata": {},
   "outputs": [
    {
     "data": {
      "text/plain": [
       "0.14"
      ]
     },
     "execution_count": 147,
     "metadata": {},
     "output_type": "execute_result"
    }
   ],
   "source": [
    "round(stats.poisson(λ).sf(96), 2)"
   ]
  },
  {
   "cell_type": "code",
   "execution_count": 150,
   "id": "01aecc62",
   "metadata": {},
   "outputs": [
    {
     "data": {
      "text/plain": [
       "0.45"
      ]
     },
     "execution_count": 150,
     "metadata": {},
     "output_type": "execute_result"
    }
   ],
   "source": [
    "n_trials = 60\n",
    "p = .01\n",
    "\n",
    "round(stats.binom(n_trials, p).sf(0), 2)"
   ]
  },
  {
   "cell_type": "code",
   "execution_count": 152,
   "id": "44a2bb1d",
   "metadata": {},
   "outputs": [
    {
     "data": {
      "text/plain": [
       "59"
      ]
     },
     "execution_count": 152,
     "metadata": {},
     "output_type": "execute_result"
    }
   ],
   "source": [
    "students = round(.9 * 22 * 3)\n",
    "p = .03"
   ]
  },
  {
   "cell_type": "code",
   "execution_count": 153,
   "id": "403a038a",
   "metadata": {},
   "outputs": [
    {
     "data": {
      "text/plain": [
       "Text(0.5, 1.0, 'Messy Breakroom?')"
      ]
     },
     "execution_count": 153,
     "metadata": {},
     "output_type": "execute_result"
    },
    {
     "data": {
      "image/png": "[encoded data removed]",
      "text/plain": [
       "<Figure size 640x480 with 1 Axes>"
      ]
     },
     "metadata": {},
     "output_type": "display_data"
    }
   ],
   "source": [
    "x = np.arange(0, 10)\n",
    "y = stats.binom(students, p).pmf(x)\n",
    "plt.bar(x, y)\n",
    "plt.xlabel('Number of Cleaning events per day')\n",
    "plt.title('Messy Breakroom?')\n"
   ]
  },
  {
   "cell_type": "code",
   "execution_count": 155,
   "id": "ec9b95e3",
   "metadata": {},
   "outputs": [
    {
     "data": {
      "text/plain": [
       "0.83"
      ]
     },
     "execution_count": 155,
     "metadata": {},
     "output_type": "execute_result"
    }
   ],
   "source": [
    "# sf.(0) because we want to find out if cleaned more than 0 times\n",
    "clean = stats.binom(students, p)\n",
    "round(clean.sf(0), 2)"
   ]
  },
  {
   "cell_type": "code",
   "execution_count": 156,
   "id": "ab767e39",
   "metadata": {},
   "outputs": [
    {
     "data": {
      "text/plain": [
       "0.03"
      ]
     },
     "execution_count": 156,
     "metadata": {},
     "output_type": "execute_result"
    }
   ],
   "source": [
    "two_days = students * 2\n",
    "round(stats.binom(two_days, p).pmf(0), 2)"
   ]
  },
  {
   "cell_type": "code",
   "execution_count": 159,
   "id": "f8ad2694",
   "metadata": {},
   "outputs": [
    {
     "data": {
      "text/plain": [
       "0.00012521651388091245"
      ]
     },
     "execution_count": 159,
     "metadata": {},
     "output_type": "execute_result"
    }
   ],
   "source": [
    "five_days = students * 5\n",
    "stats.binom(five_days, p).pmf(0)"
   ]
  },
  {
   "cell_type": "code",
   "execution_count": 160,
   "id": "346e1da6",
   "metadata": {},
   "outputs": [
    {
     "data": {
      "text/plain": [
       "33"
      ]
     },
     "execution_count": 160,
     "metadata": {},
     "output_type": "execute_result"
    }
   ],
   "source": [
    "mean = 15 * 2 # 15 people taking 2 min each\n",
    "std_dev = 3 * 2\n",
    "\n",
    "total_lunch_time = 60 #mins\n",
    "order_time = 2\n",
    "eat_time = 15\n",
    "cook_time = 10\n",
    "\n",
    "max_wait = total_lunch_time - order_time - eat_time - cook_time\n",
    "max_wait"
   ]
  },
  {
   "cell_type": "code",
   "execution_count": 162,
   "id": "89d34b95",
   "metadata": {},
   "outputs": [
    {
     "data": {
      "text/plain": [
       "0.69"
      ]
     },
     "execution_count": 162,
     "metadata": {},
     "output_type": "execute_result"
    }
   ],
   "source": [
    "round(stats.norm(mean, std_dev).cdf(max_wait), 2)"
   ]
  },
  {
   "cell_type": "code",
   "execution_count": null,
   "id": "8089cc21",
   "metadata": {},
   "outputs": [],
   "source": []
  },
  {
   "cell_type": "code",
   "execution_count": null,
   "id": "0c03d9ef",
   "metadata": {},
   "outputs": [],
   "source": []
  },
  {
   "cell_type": "code",
   "execution_count": null,
   "id": "3b14d1b7",
   "metadata": {},
   "outputs": [],
   "source": []
  }
 ],
 "metadata": {
  "kernelspec": {
   "display_name": "Python 3 (ipykernel)",
   "language": "python",
   "name": "python3"
  },
  "language_info": {
   "codemirror_mode": {
    "name": "ipython",
    "version": 3
   },
   "file_extension": ".py",
   "mimetype": "text/x-python",
   "name": "python",
   "nbconvert_exporter": "python",
   "pygments_lexer": "ipython3",
   "version": "3.9.13"
  }
 },
 "nbformat": 4,
 "nbformat_minor": 5
}

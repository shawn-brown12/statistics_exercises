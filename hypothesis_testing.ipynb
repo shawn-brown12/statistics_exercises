{
 "cells": [
  {
   "cell_type": "markdown",
   "id": "faa59080",
   "metadata": {},
   "source": [
    "# Hypothesis Testing Lesson"
   ]
  },
  {
   "cell_type": "markdown",
   "id": "2985e4d2",
   "metadata": {},
   "source": [
    "For each of the following questions, formulate a null and alternative hypothesis (be as specific as you can be), then give an example of what a true positive, true negative, type I and type II errors would look like. Note that some of the questions are intentionally phrased in a vague way. It is your job to reword these as more precise questions that could be tested.\n",
    "\n"
   ]
  },
  {
   "cell_type": "markdown",
   "id": "9a8d20f1",
   "metadata": {},
   "source": [
    "Has the network latency gone up since we switched internet service providers?\n"
   ]
  },
  {
   "cell_type": "code",
   "execution_count": null,
   "id": "1fb80eb1",
   "metadata": {},
   "outputs": [],
   "source": [
    "#null hypothesis - the latency hasn't decreased or remained the same since switching providers\n",
    "#alternative hypothesis - the latency has gone up since switching providers"
   ]
  },
  {
   "cell_type": "code",
   "execution_count": null,
   "id": "3c830778",
   "metadata": {},
   "outputs": [],
   "source": [
    "#a true positive here is rejecting the null hypothesis while that conclusion aligns with reality\n",
    "#a true negative is failing to reject the null hypothesis while that conclusion aligns with reality\n",
    "#a false positive (type I error) is rejecting a true null hypothesis, false\n",
    "#a false negative (type II error) is failing to reject a false null hypothesis"
   ]
  },
  {
   "cell_type": "markdown",
   "id": "70a714a0",
   "metadata": {},
   "source": [
    "Is the website redesign any good?\n"
   ]
  },
  {
   "cell_type": "code",
   "execution_count": null,
   "id": "c3101f1d",
   "metadata": {},
   "outputs": [],
   "source": [
    "#making this less vague - Is the new website bringing in any more visitors than the old did?\n",
    "#null hypothesis - the website traffic stayed the same or went down\n",
    "#alternative hypothesis - the new website design is bringing in more web traffic"
   ]
  },
  {
   "cell_type": "code",
   "execution_count": null,
   "id": "bdd9aa9c",
   "metadata": {},
   "outputs": [],
   "source": [
    "#true positive - correctly rejecting the null hypothesis that traffic hasn't changed since the redesign\n",
    "#true negative - correctly failing to reject the null hypothesis that traffic hasn't changed\n",
    "#false positive - incorrectly rejecting the null hypothesis (wrongly predicting that traffic has changed)\n",
    "#false negative - incorrectly failing to reject the null hypothesis (wrongly predicting that \n",
    "                                                                     #traffic has stayed the same)"
   ]
  },
  {
   "cell_type": "markdown",
   "id": "821d165a",
   "metadata": {},
   "source": [
    "Is our television ad driving more sales?\n"
   ]
  },
  {
   "cell_type": "code",
   "execution_count": null,
   "id": "d7fea950",
   "metadata": {},
   "outputs": [],
   "source": [
    "#making a more direct question - Are sales improving with our new tv add?\n",
    "#null hypothesis - sales haven't changed since airing our new ad\n",
    "#alternative hypothesis - sales have improved since our new add aired"
   ]
  },
  {
   "cell_type": "code",
   "execution_count": null,
   "id": "3c16645d",
   "metadata": {},
   "outputs": [],
   "source": [
    "#true positive - correctly rejecting the null hypothesis that sales haven't changed (meaning sales have changed)\n",
    "#true negative - correctly failing to reject the null (meaning that sales haven't changed)\n",
    "#false positive - incorrectly rejecting the null (predicting sales have changed when they haven't)\n",
    "#false negative - incorrectly failing to reject the null (predicting sales haven't changed when they have)"
   ]
  }
 ],
 "metadata": {
  "kernelspec": {
   "display_name": "Python 3 (ipykernel)",
   "language": "python",
   "name": "python3"
  },
  "language_info": {
   "codemirror_mode": {
    "name": "ipython",
    "version": 3
   },
   "file_extension": ".py",
   "mimetype": "text/x-python",
   "name": "python",
   "nbconvert_exporter": "python",
   "pygments_lexer": "ipython3",
   "version": "3.9.13"
  }
 },
 "nbformat": 4,
 "nbformat_minor": 5
}

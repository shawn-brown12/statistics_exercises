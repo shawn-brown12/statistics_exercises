{
 "cells": [
  {
   "cell_type": "code",
   "execution_count": 1,
   "id": "e9e1c138",
   "metadata": {},
   "outputs": [],
   "source": [
    "import pandas as pd\n",
    "import numpy as np\n",
    "import seaborn as sns\n",
    "from pydataset import data\n",
    "import scipy.stats as stats\n",
    "import matplotlib.pyplot as plt"
   ]
  },
  {
   "cell_type": "markdown",
   "id": "faa59080",
   "metadata": {},
   "source": [
    "# Hypothesis Testing"
   ]
  },
  {
   "cell_type": "markdown",
   "id": "2985e4d2",
   "metadata": {},
   "source": [
    "For each of the following questions, formulate a null and alternative hypothesis (be as specific as you can be), then give an example of what a true positive, true negative, type I and type II errors would look like. Note that some of the questions are intentionally phrased in a vague way. It is your job to reword these as more precise questions that could be tested.\n",
    "\n"
   ]
  },
  {
   "cell_type": "markdown",
   "id": "9a8d20f1",
   "metadata": {},
   "source": [
    "Has the network latency gone up since we switched internet service providers?\n"
   ]
  },
  {
   "cell_type": "code",
   "execution_count": null,
   "id": "1fb80eb1",
   "metadata": {},
   "outputs": [],
   "source": [
    "#null hypothesis - the latency hasn't decreased or remained the same since switching providers\n",
    "#alternative hypothesis - the latency has gone up since switching providers"
   ]
  },
  {
   "cell_type": "code",
   "execution_count": null,
   "id": "3c830778",
   "metadata": {},
   "outputs": [],
   "source": [
    "#a true positive here is rejecting the null hypothesis while that conclusion aligns with reality\n",
    "#a true negative is failing to reject the null hypothesis while that conclusion aligns with reality\n",
    "#a false positive (type I error) is rejecting a true null hypothesis, false\n",
    "#a false negative (type II error) is failing to reject a false null hypothesis"
   ]
  },
  {
   "cell_type": "markdown",
   "id": "70a714a0",
   "metadata": {},
   "source": [
    "Is the website redesign any good?\n"
   ]
  },
  {
   "cell_type": "code",
   "execution_count": null,
   "id": "c3101f1d",
   "metadata": {},
   "outputs": [],
   "source": [
    "#making this less vague - Is the new website bringing in any more visitors than the old did?\n",
    "#null hypothesis - the website traffic stayed the same or went down\n",
    "#alternative hypothesis - the new website design is bringing in more web traffic"
   ]
  },
  {
   "cell_type": "code",
   "execution_count": null,
   "id": "bdd9aa9c",
   "metadata": {},
   "outputs": [],
   "source": [
    "#true positive - correctly rejecting the null hypothesis that traffic hasn't changed since the redesign\n",
    "#true negative - correctly failing to reject the null hypothesis that traffic hasn't changed\n",
    "#false positive - incorrectly rejecting the null hypothesis (wrongly predicting that traffic has changed)\n",
    "#false negative - incorrectly failing to reject the null hypothesis (wrongly predicting that \n",
    "                                                                     #traffic has stayed the same)"
   ]
  },
  {
   "cell_type": "markdown",
   "id": "821d165a",
   "metadata": {},
   "source": [
    "Is our television ad driving more sales?\n"
   ]
  },
  {
   "cell_type": "code",
   "execution_count": null,
   "id": "d7fea950",
   "metadata": {},
   "outputs": [],
   "source": [
    "#making a more direct question - Are sales improving with our new tv add?\n",
    "#null hypothesis - sales haven't changed since airing our new ad\n",
    "#alternative hypothesis - sales have improved since our new add aired"
   ]
  },
  {
   "cell_type": "code",
   "execution_count": null,
   "id": "3c16645d",
   "metadata": {},
   "outputs": [],
   "source": [
    "#true positive - correctly rejecting the null hypothesis that sales haven't changed (meaning sales have changed)\n",
    "#true negative - correctly failing to reject the null (meaning that sales haven't changed)\n",
    "#false positive - incorrectly rejecting the null (predicting sales have changed when they haven't)\n",
    "#false negative - incorrectly failing to reject the null (predicting sales haven't changed when they have)"
   ]
  },
  {
   "cell_type": "markdown",
   "id": "52388eae",
   "metadata": {},
   "source": [
    "Answer with the type of test you would use (assume normal distribution):\n",
    "\n",
    "Is there a difference in grades of students on the second floor compared to grades of all students?\n"
   ]
  },
  {
   "cell_type": "code",
   "execution_count": 2,
   "id": "5620ff83",
   "metadata": {},
   "outputs": [],
   "source": [
    "#I would use a one sample t-test with 2 tails\n",
    "\n",
    "#the reason I would use this is because I'm pulling a smaller group from within the total population\n",
    "#to compare that group to the overall population. It has two tails because I'm looking for a difference\n",
    "#in grades either way, not just higher or lower"
   ]
  },
  {
   "cell_type": "markdown",
   "id": "99385363",
   "metadata": {},
   "source": [
    "Are adults who drink milk taller than adults who dont drink milk?\n"
   ]
  },
  {
   "cell_type": "code",
   "execution_count": null,
   "id": "c436b28b",
   "metadata": {},
   "outputs": [],
   "source": [
    "#I would use a 2 sample (Independent) t-test with one tail\n",
    "\n",
    "#the reason I would use this is because I'm taking two populations, adults who drink milk and adults who don't\n",
    "# and comparing them to eachother. It has one tail because I'm specifically looking for adults whether adults who\n",
    "#drink milk are taller, not that there's a difference in either direction"
   ]
  },
  {
   "cell_type": "markdown",
   "id": "9f19a37d",
   "metadata": {},
   "source": [
    "Is the the price of gas higher in texas or in new mexico?\n"
   ]
  },
  {
   "cell_type": "code",
   "execution_count": null,
   "id": "894037ab",
   "metadata": {},
   "outputs": [],
   "source": [
    "#As above, I would use a 2 sample (Independent) t-test with one tail\n",
    "\n",
    "#I would use this because I'm taking two separate populations and comparing an observation\n",
    "#of each of them together. It has one tail because I'm specifically looking for which gas price is higher\n",
    "#not whether or not there's a difference at all"
   ]
  },
  {
   "cell_type": "markdown",
   "id": "caabc149",
   "metadata": {},
   "source": [
    "Are there differences in stress levels between students who take data science vs students who take web development vs students who take cloud academy?\n"
   ]
  },
  {
   "cell_type": "code",
   "execution_count": null,
   "id": "e45ae20c",
   "metadata": {},
   "outputs": [],
   "source": [
    "#For this I would use one of two tests, either the ANOVA test, or the Kruskal-Wallis Test. \n",
    "#To determine from there I would have to figure out if the variance of the two means is equal or not, and\n",
    "#if it is, I would use the ANOVA test\n",
    "\n",
    "#The reasoning behind this is because I'm comparing more than two independent groups from our \n",
    "#population together"
   ]
  },
  {
   "cell_type": "markdown",
   "id": "f8e86ec2",
   "metadata": {},
   "source": [
    "*BONUS*  \n",
    "Ace Realty wants to determine whether the average time it takes to sell homes is different for its two offices. A sample of 40 sales from office #1 revealed a mean of 90 days and a standard deviation of 15 days. A sample of 50 sales from office #2 revealed a mean of 100 days and a standard deviation of 20 days. Use a .05 level of significance.\n",
    "\n"
   ]
  },
  {
   "cell_type": "code",
   "execution_count": null,
   "id": "68c46baa",
   "metadata": {},
   "outputs": [],
   "source": []
  },
  {
   "cell_type": "markdown",
   "id": "6a284189",
   "metadata": {},
   "source": [
    "Load the mpg dataset and use it to answer the following questions:\n",
    "\n",
    "Is there a difference in fuel-efficiency in cars from 2008 vs 1999?"
   ]
  },
  {
   "cell_type": "code",
   "execution_count": 8,
   "id": "5fa194dc",
   "metadata": {},
   "outputs": [],
   "source": [
    "mpg = data('mpg')"
   ]
  },
  {
   "cell_type": "code",
   "execution_count": 13,
   "id": "0dbbf247",
   "metadata": {},
   "outputs": [],
   "source": [
    "mpg['avg_mileage'] = mpg.cty + mpg.hwy / 2"
   ]
  },
  {
   "cell_type": "code",
   "execution_count": 11,
   "id": "067e0040",
   "metadata": {},
   "outputs": [
    {
     "data": {
      "text/plain": [
       "1    32.5\n",
       "2    35.5\n",
       "5    29.0\n",
       "6    31.0\n",
       "8    31.0\n",
       "Name: avg_mileage, dtype: float64"
      ]
     },
     "execution_count": 11,
     "metadata": {},
     "output_type": "execute_result"
    }
   ],
   "source": [
    "old_mileage = mpg[mpg.year == 1999].avg_mileage\n",
    "old_mileage.head()"
   ]
  },
  {
   "cell_type": "code",
   "execution_count": 12,
   "id": "bd1555a6",
   "metadata": {},
   "outputs": [
    {
     "data": {
      "text/plain": [
       "3     35.5\n",
       "4     36.0\n",
       "7     31.5\n",
       "10    34.0\n",
       "11    32.5\n",
       "Name: avg_mileage, dtype: float64"
      ]
     },
     "execution_count": 12,
     "metadata": {},
     "output_type": "execute_result"
    }
   ],
   "source": [
    "new_mileage = mpg[mpg.year == 2008].avg_mileage\n",
    "new_mileage.head()"
   ]
  },
  {
   "cell_type": "code",
   "execution_count": 20,
   "id": "a93fb861",
   "metadata": {},
   "outputs": [
    {
     "data": {
      "text/plain": [
       "117"
      ]
     },
     "execution_count": 20,
     "metadata": {},
     "output_type": "execute_result"
    }
   ],
   "source": [
    "len(new_mileage)\n",
    "len(old_mileage)"
   ]
  },
  {
   "cell_type": "code",
   "execution_count": 23,
   "id": "55eb1564",
   "metadata": {},
   "outputs": [
    {
     "data": {
      "text/plain": [
       "Ttest_indResult(statistic=0.3236957615075298, pvalue=0.7464599863171417)"
      ]
     },
     "execution_count": 23,
     "metadata": {},
     "output_type": "execute_result"
    }
   ],
   "source": [
    "alpha = .05\n",
    "\n",
    "stats.ttest_ind(old_mileage, new_mileage)"
   ]
  },
  {
   "cell_type": "code",
   "execution_count": null,
   "id": "2bb68780",
   "metadata": {},
   "outputs": [],
   "source": []
  },
  {
   "cell_type": "markdown",
   "id": "1e396080",
   "metadata": {},
   "source": [
    "Are compact cars more fuel-efficient than the average car?\n"
   ]
  },
  {
   "cell_type": "code",
   "execution_count": null,
   "id": "cf6b95ac",
   "metadata": {},
   "outputs": [],
   "source": []
  },
  {
   "cell_type": "markdown",
   "id": "b1f4f1d3",
   "metadata": {},
   "source": [
    "Do manual cars get better gas mileage than automatic cars?\n"
   ]
  },
  {
   "cell_type": "code",
   "execution_count": null,
   "id": "37941d1d",
   "metadata": {},
   "outputs": [],
   "source": []
  }
 ],
 "metadata": {
  "kernelspec": {
   "display_name": "Python 3 (ipykernel)",
   "language": "python",
   "name": "python3"
  },
  "language_info": {
   "codemirror_mode": {
    "name": "ipython",
    "version": 3
   },
   "file_extension": ".py",
   "mimetype": "text/x-python",
   "name": "python",
   "nbconvert_exporter": "python",
   "pygments_lexer": "ipython3",
   "version": "3.9.13"
  }
 },
 "nbformat": 4,
 "nbformat_minor": 5
}

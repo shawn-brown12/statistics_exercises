{
 "cells": [
  {
   "cell_type": "code",
   "execution_count": 1,
   "id": "0834f492",
   "metadata": {},
   "outputs": [],
   "source": [
    "import pandas as pd\n",
    "import numpy as np\n",
    "import seaborn as sns\n",
    "from pydataset import data\n",
    "import scipy.stats as stats\n",
    "import matplotlib.pyplot as plt\n",
    "import env\n",
    "import os"
   ]
  },
  {
   "cell_type": "code",
   "execution_count": 5,
   "id": "d647b7e5",
   "metadata": {},
   "outputs": [],
   "source": [
    "cake = data('cake')"
   ]
  },
  {
   "cell_type": "code",
   "execution_count": 6,
   "id": "d2a1dc34",
   "metadata": {},
   "outputs": [
    {
     "data": {
      "text/html": [
       "<div>\n",
       "<style scoped>\n",
       "    .dataframe tbody tr th:only-of-type {\n",
       "        vertical-align: middle;\n",
       "    }\n",
       "\n",
       "    .dataframe tbody tr th {\n",
       "        vertical-align: top;\n",
       "    }\n",
       "\n",
       "    .dataframe thead th {\n",
       "        text-align: right;\n",
       "    }\n",
       "</style>\n",
       "<table border=\"1\" class=\"dataframe\">\n",
       "  <thead>\n",
       "    <tr style=\"text-align: right;\">\n",
       "      <th></th>\n",
       "      <th>replicate</th>\n",
       "      <th>recipe</th>\n",
       "      <th>temperature</th>\n",
       "      <th>angle</th>\n",
       "      <th>temp</th>\n",
       "    </tr>\n",
       "  </thead>\n",
       "  <tbody>\n",
       "    <tr>\n",
       "      <th>1</th>\n",
       "      <td>1</td>\n",
       "      <td>A</td>\n",
       "      <td>175</td>\n",
       "      <td>42</td>\n",
       "      <td>175</td>\n",
       "    </tr>\n",
       "    <tr>\n",
       "      <th>2</th>\n",
       "      <td>1</td>\n",
       "      <td>A</td>\n",
       "      <td>185</td>\n",
       "      <td>46</td>\n",
       "      <td>185</td>\n",
       "    </tr>\n",
       "    <tr>\n",
       "      <th>3</th>\n",
       "      <td>1</td>\n",
       "      <td>A</td>\n",
       "      <td>195</td>\n",
       "      <td>47</td>\n",
       "      <td>195</td>\n",
       "    </tr>\n",
       "    <tr>\n",
       "      <th>4</th>\n",
       "      <td>1</td>\n",
       "      <td>A</td>\n",
       "      <td>205</td>\n",
       "      <td>39</td>\n",
       "      <td>205</td>\n",
       "    </tr>\n",
       "    <tr>\n",
       "      <th>5</th>\n",
       "      <td>1</td>\n",
       "      <td>A</td>\n",
       "      <td>215</td>\n",
       "      <td>53</td>\n",
       "      <td>215</td>\n",
       "    </tr>\n",
       "  </tbody>\n",
       "</table>\n",
       "</div>"
      ],
      "text/plain": [
       "   replicate recipe  temperature  angle  temp\n",
       "1          1      A          175     42   175\n",
       "2          1      A          185     46   185\n",
       "3          1      A          195     47   195\n",
       "4          1      A          205     39   205\n",
       "5          1      A          215     53   215"
      ]
     },
     "execution_count": 6,
     "metadata": {},
     "output_type": "execute_result"
    }
   ],
   "source": [
    "cake.head()"
   ]
  },
  {
   "cell_type": "markdown",
   "id": "52c42568",
   "metadata": {},
   "source": [
    "- Is there a significant difference in the average tempature for the three different recipes\n",
    "\n",
    "$H_0$ : There is no significant difference in the temperatures of the recipes  \n",
    "$H_a$ : There IS a significant difference in the temperature (in either direction)"
   ]
  },
  {
   "cell_type": "code",
   "execution_count": 13,
   "id": "ccab5f03",
   "metadata": {},
   "outputs": [],
   "source": [
    "recipe_a = cake[cake['recipe'] == 'A'].temperature\n",
    "recipe_b = cake[cake['recipe'] == 'B'].temperature\n",
    "recipe_c = cake[cake['recipe'] == 'C'].temperature"
   ]
  },
  {
   "cell_type": "code",
   "execution_count": 16,
   "id": "55e16cb3",
   "metadata": {},
   "outputs": [],
   "source": [
    "alpha = .05"
   ]
  },
  {
   "cell_type": "code",
   "execution_count": 18,
   "id": "c5f684c0",
   "metadata": {},
   "outputs": [
    {
     "name": "stdout",
     "output_type": "stream",
     "text": [
      "294.9438202247191\n",
      "294.9438202247191\n",
      "294.9438202247191\n"
     ]
    }
   ],
   "source": [
    "print(recipe_a.var())\n",
    "print(recipe_b.var())\n",
    "print(recipe_c.var())"
   ]
  },
  {
   "cell_type": "code",
   "execution_count": 19,
   "id": "32a96303",
   "metadata": {},
   "outputs": [],
   "source": [
    "f, p = stats.f_oneway(recipe_a, recipe_b, recipe_c)"
   ]
  },
  {
   "cell_type": "code",
   "execution_count": 20,
   "id": "2dcc4027",
   "metadata": {},
   "outputs": [
    {
     "data": {
      "text/plain": [
       "(0.0, 1.0)"
      ]
     },
     "execution_count": 20,
     "metadata": {},
     "output_type": "execute_result"
    }
   ],
   "source": [
    "f, p"
   ]
  },
  {
   "cell_type": "code",
   "execution_count": 21,
   "id": "674ba681",
   "metadata": {},
   "outputs": [
    {
     "data": {
      "text/plain": [
       "False"
      ]
     },
     "execution_count": 21,
     "metadata": {},
     "output_type": "execute_result"
    }
   ],
   "source": [
    "p < alpha"
   ]
  },
  {
   "cell_type": "markdown",
   "id": "2813ce49",
   "metadata": {},
   "source": [
    "Because the p-value is greater than our alpha, we have failed to reject the null hypothesis"
   ]
  },
  {
   "cell_type": "markdown",
   "id": "43330288",
   "metadata": {},
   "source": [
    "## Review\n",
    "\n",
    "Is there a significant difference in temperature across the three recipes?\n",
    "\n",
    "Test? - ANOVA; more than two groups\n",
    "Assumptions? Independent = YES, # of observations = YES, equal variance = YES (levene's test)\n",
    "\n",
    "$H_0$ : There is no difference in the average temp in each recipe; $\\mu_{a} == \\mu_{b} == \\mu_{c}$\n",
    "\n",
    "$H_a$ : There is a difference in the average temp in each recipe; $\\mu_{a} != \\mu_{b} != \\mu_{c}$"
   ]
  },
  {
   "cell_type": "code",
   "execution_count": 22,
   "id": "2cc5a997",
   "metadata": {},
   "outputs": [
    {
     "data": {
      "text/plain": [
       "LeveneResult(statistic=0.0, pvalue=1.0)"
      ]
     },
     "execution_count": 22,
     "metadata": {},
     "output_type": "execute_result"
    }
   ],
   "source": [
    "stats.levene(recipe_a, recipe_b, recipe_c)"
   ]
  },
  {
   "cell_type": "code",
   "execution_count": 25,
   "id": "bae74a88",
   "metadata": {},
   "outputs": [
    {
     "data": {
      "text/plain": [
       "False"
      ]
     },
     "execution_count": 25,
     "metadata": {},
     "output_type": "execute_result"
    }
   ],
   "source": [
    "f, p = stats.f_oneway(recipe_a, recipe_b, recipe_c)\n",
    "p < alpha"
   ]
  },
  {
   "cell_type": "markdown",
   "id": "ec065794",
   "metadata": {},
   "source": [
    "We fail to reject he null hypothesis that there is no difference in the average temp in each recipe; $\\mu_{a} == \\mu_{b} == \\mu_{c}$\n",
    "\n",
    "There is no significant difference in the temperatures across the three recipes"
   ]
  },
  {
   "cell_type": "code",
   "execution_count": null,
   "id": "cb953f8b",
   "metadata": {},
   "outputs": [],
   "source": []
  }
 ],
 "metadata": {
  "kernelspec": {
   "display_name": "Python 3 (ipykernel)",
   "language": "python",
   "name": "python3"
  },
  "language_info": {
   "codemirror_mode": {
    "name": "ipython",
    "version": 3
   },
   "file_extension": ".py",
   "mimetype": "text/x-python",
   "name": "python",
   "nbconvert_exporter": "python",
   "pygments_lexer": "ipython3",
   "version": "3.9.13"
  }
 },
 "nbformat": 4,
 "nbformat_minor": 5
}
